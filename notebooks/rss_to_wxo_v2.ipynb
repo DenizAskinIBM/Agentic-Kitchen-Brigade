{
 "cells": [
  {
   "cell_type": "markdown",
   "id": "caf167d2",
   "metadata": {},
   "source": [
    "This Notebook Illustrates How to Constantly Read Data from an RSS Feed and Invoke WXO Skills with the Data Collected\n",
    "The idea is to collect inputs from an RSS feed (DownDetector alerts), filter the alerts, and for any qualifying alerts, invoke a WXO skill with details of the alerts."
   ]
  },
  {
   "cell_type": "code",
   "execution_count": 1,
   "id": "52291ca4",
   "metadata": {},
   "outputs": [],
   "source": [
    "import feedparser"
   ]
  },
  {
   "cell_type": "code",
   "execution_count": 2,
   "id": "3f877030",
   "metadata": {},
   "outputs": [],
   "source": [
    "import requests\n",
    "import json\n",
    "import base64\n",
    "import os\n",
    "import time"
   ]
  },
  {
   "cell_type": "code",
   "execution_count": 3,
   "id": "3417cc68",
   "metadata": {},
   "outputs": [],
   "source": [
    "Tenant_ID = \"20250212-1521-3150-30c9-e789cad9cae1\"\n",
    "api_key = \"c5jsf7CBqlU_kPW8Hj80VnU13RX2ezGPTs6Fyg0\""
   ]
  },
  {
   "cell_type": "code",
   "execution_count": 4,
   "id": "2e9d83ed",
   "metadata": {},
   "outputs": [
    {
     "name": "stdout",
     "output_type": "stream",
     "text": [
      "Generating new token...\n",
      "Failed to retrieve token, status code: 400\n"
     ]
    }
   ],
   "source": [
    "TOKEN_FILE = \"bearer_token_telus.json\"\n",
    "\n",
    "\n",
    "def get_bearer_token(api_key):\n",
    "    token_data = load_token()\n",
    "\n",
    "    if token_data and not is_token_expired(token_data[\"expires_at\"]):\n",
    "        print(\"Using cached token.\")\n",
    "        return token_data[\"token\"]\n",
    "\n",
    "    print(\"Generating new token...\")\n",
    "    url = \"https://iam.platform.saas.ibm.com/siusermgr/api/1.0/apikeys/token\"\n",
    "    payload = {\"apikey\": api_key}\n",
    "    response = requests.post(url, json=payload)\n",
    "\n",
    "    if response.status_code == 200:\n",
    "        response_data = response.json()\n",
    "        token = response_data.get(\"token\")\n",
    "        expires_in = response_data.get(\"expires_in\")\n",
    "\n",
    "        if token:\n",
    "            save_token(token, expires_in)\n",
    "            return token\n",
    "        else:\n",
    "            print(\"Token not found in response.\")\n",
    "    else:\n",
    "        print(f\"Failed to retrieve token, status code: {response.status_code}\")\n",
    "        return None\n",
    "\n",
    "\n",
    "def save_token(token, expires_in):\n",
    "    expiration_time = int(time.time()) + expires_in\n",
    "    token_data = {\"token\": token, \"expires_at\": expiration_time}\n",
    "    with open(TOKEN_FILE, \"w\") as f:\n",
    "        json.dump(token_data, f)\n",
    "\n",
    "\n",
    "def load_token():\n",
    "    if os.path.exists(TOKEN_FILE):\n",
    "        with open(TOKEN_FILE, \"r\") as f:\n",
    "            return json.load(f)\n",
    "    return None\n",
    "\n",
    "\n",
    "def is_token_expired(expiration_time):\n",
    "    return int(time.time()) > expiration_time\n",
    "\n",
    "\n",
    "token = get_bearer_token(api_key)"
   ]
  },
  {
   "cell_type": "code",
   "execution_count": 5,
   "id": "3edc7bc4",
   "metadata": {},
   "outputs": [],
   "source": [
    "def invoke_skill_chat_response(token):\n",
    "    url = f\"https://api.dl.watson-orchestrate.ibm.com:443/instances/{Tenant_ID}/v1/skills/_personal_/trial-generative__latest__add_1//prompts/add_1/generation/text\"\n",
    "    headers = {\n",
    "        \"Content-Type\": \"application/json\",\n",
    "        \"Authorization\": f\"Bearer {token}\",\n",
    "        \"callbackUrl\": \"callback\",\n",
    "    }\n",
    "\n",
    "    data = {\"n1\": \"10\", \"n2\": \"30\", \"output1\": \" \"}\n",
    "\n",
    "    response = requests.post(url, headers=headers, json=data)\n",
    "\n",
    "    if response.status_code == 200:\n",
    "        response_json = response.json()\n",
    "        print(response_json)\n",
    "        generated_text = response_json.get(\"generated_text\", \"0\")\n",
    "        try:\n",
    "            response_num = int(generated_text)\n",
    "        except ValueError:\n",
    "            response_num = 0\n",
    "        return response_num\n",
    "    else:\n",
    "        print(f\"POST request failed: {response.status_code}\")\n",
    "        try:\n",
    "            print(response.json())\n",
    "        except:\n",
    "            print(response.text)\n",
    "        return None"
   ]
  },
  {
   "cell_type": "code",
   "execution_count": 7,
   "id": "fbfea0a7",
   "metadata": {},
   "outputs": [
    {
     "name": "stdout",
     "output_type": "stream",
     "text": [
      "====================READING RSS FEED=======================\n",
      "=====================DATA COLLECTED FROM RSS FEED================\n",
      "=====================INVOKE WXO SKILL================\n",
      "Generating new token...\n",
      "Failed to retrieve token, status code: 400\n",
      "=====================WXO output================\n",
      "POST request failed: 401\n",
      "{'message': 'wxO Unauthorized- kid not found in the token', 'code': 401}\n"
     ]
    },
    {
     "ename": "KeyboardInterrupt",
     "evalue": "",
     "output_type": "error",
     "traceback": [
      "\u001b[31m---------------------------------------------------------------------------\u001b[39m",
      "\u001b[31mKeyboardInterrupt\u001b[39m                         Traceback (most recent call last)",
      "\u001b[36mCell\u001b[39m\u001b[36m \u001b[39m\u001b[32mIn[7]\u001b[39m\u001b[32m, line 27\u001b[39m\n\u001b[32m     22\u001b[39m \u001b[38;5;28mprint\u001b[39m(\u001b[33m\"\u001b[39m\u001b[33m=====================WXO output================\u001b[39m\u001b[33m\"\u001b[39m)\n\u001b[32m     23\u001b[39m wxo_response = invoke_skill_chat_response(\n\u001b[32m     24\u001b[39m     token=token\n\u001b[32m     25\u001b[39m )  \u001b[38;5;66;03m# --------> This will be replaced with a skill in Wxo that sends message to google chat. 'data' collected from RSS will be supplied to this skill.\u001b[39;00m\n\u001b[32m---> \u001b[39m\u001b[32m27\u001b[39m \u001b[43mtime\u001b[49m\u001b[43m.\u001b[49m\u001b[43msleep\u001b[49m\u001b[43m(\u001b[49m\u001b[32;43m30\u001b[39;49m\u001b[43m)\u001b[49m\n",
      "\u001b[31mKeyboardInterrupt\u001b[39m: "
     ]
    }
   ],
   "source": [
    "def read_rss_feed(feed_url):\n",
    "    print(\"====================READING RSS FEED=======================\")\n",
    "    # Parse the Yahoo News RSS feed\n",
    "    feed = feedparser.parse(feed_url)\n",
    "\n",
    "    print(\"=====================DATA COLLECTED FROM RSS FEED================\")\n",
    "    # List all the items present in the feed\n",
    "    for item in feed.entries[:3]:\n",
    "        print(item.title)\n",
    "        print(item.link)\n",
    "        print(\"------------------------\")\n",
    "\n",
    "\n",
    "while True:\n",
    "    # Read from RSS feed\n",
    "    data = read_rss_feed(feed_url=\"https://www.yahoo.com/news/rss\")\n",
    "\n",
    "    print(\"=====================INVOKE WXO SKILL================\")\n",
    "\n",
    "    # Invoke WxO Skill with input data\n",
    "    token = get_bearer_token(api_key=api_key)\n",
    "    print(\"=====================WXO output================\")\n",
    "    wxo_response = invoke_skill_chat_response(\n",
    "        token=token\n",
    "    )  # --------> This will be replaced with a skill in Wxo that sends message to google chat. 'data' collected from RSS will be supplied to this skill.\n",
    "\n",
    "    time.sleep(30)"
   ]
  },
  {
   "cell_type": "code",
   "execution_count": null,
   "id": "5b58a7a1",
   "metadata": {},
   "outputs": [],
   "source": [
    "invoke_skill_chat_response(token=token)"
   ]
  },
  {
   "cell_type": "code",
   "execution_count": null,
   "id": "9bb9e99a",
   "metadata": {},
   "outputs": [],
   "source": []
  }
 ],
 "metadata": {
  "kernelspec": {
   "display_name": ".venv",
   "language": "python",
   "name": "python3"
  },
  "language_info": {
   "codemirror_mode": {
    "name": "ipython",
    "version": 3
   },
   "file_extension": ".py",
   "mimetype": "text/x-python",
   "name": "python",
   "nbconvert_exporter": "python",
   "pygments_lexer": "ipython3",
   "version": "3.12.8"
  }
 },
 "nbformat": 4,
 "nbformat_minor": 5
}
