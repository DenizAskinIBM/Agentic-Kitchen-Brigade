{
 "cells": [
  {
   "cell_type": "markdown",
   "metadata": {
    "id": "U48hO1_V_JRG",
    "pycharm": {
     "name": "#%% md\n"
    }
   },
   "source": [
    "# Building an AI-powered multimodal RAG system with Docling and Granite"
   ]
  },
  {
   "cell_type": "markdown",
   "metadata": {},
   "source": [
    "*Using IBM Granite vision, text-based embeddings and generative AI models*\n",
    "\n",
    "## Multimodal retrieval-augmented generation\n",
    "\n",
    "[Retrieval-augmented generation (RAG)](https://www.ibm.com/think/topics/retrieval-augmented-generation) is a technique used with large language models (LLMs) to connect the model with a knowledge base of information outside the data the LLM has been trained on without having to perform [fine-tuning](https://www.ibm.com/think/topics/rag-vs-fine-tuning). Traditional RAG is limited to text-based use cases such as text summarization and chatbots.\n",
    "\n",
    "Multimodal RAG can use [multimodal](https://www.ibm.com/think/topics/multimodal-ai) LLMs (MLLM) to process information from multiple types of data to be included as part of the external knowledge base used in RAG. Multimodal data can include text, images, audio, video or other forms. Popular multimodal LLMs include Google’s Gemini, Meta’s Llama 3.2 and OpenAI’s GPT-4 and GPT-4o. \n",
    "\n",
    "For this recipe, you will use an IBM Granite model capable of processing different modalities. You will create an AI system to answer real-time user queries from unstructured data in a PDF."
   ]
  },
  {
   "cell_type": "markdown",
   "metadata": {
    "id": "_eDALN1A9LF8"
   },
   "source": [
    "## Recipe overview"
   ]
  },
  {
   "cell_type": "markdown",
   "metadata": {},
   "source": [
    "Welcome to this Granite recipe. In this recipe, you'll learn how to harness the power of advanced tools to build an AI-powered multimodal RAG pipeline. This tutorial will guide you through the following processes:\n",
    "\n",
    "- **Document preprocessing:** Learn how to handle documents from various sources, parse and transform them into usable formats and store them in vector databases by using Docling. You will use a Granite MLLM to generate image descriptions of images in the documents.\n",
    "- **RAG:** Understand how to connect LLMs such as Granite with external knowledge bases to enhance query responses and generate valuable insights.\n",
    "- **LangChain for workflow integration:** Discover how to use LangChain to streamline and orchestrate document processing and retrieval workflows, enabling seamless interaction between different components of the system.\n",
    "\n",
    "This recipe uses three cutting-edge technologies:\n",
    "\n",
    "1. **[Docling](https://docling-project.github.io/docling/):** An open-source toolkit used to parse and convert documents.\n",
    "2. **[Granite](https://www.ibm.com/granite/docs/models/granite/):** A state-of-the-art LLM that provides robust natural language capabilities and a vision language model that provides image to text generation.\n",
    "3. **[LangChain](https://github.com/langchain-ai/langchain):** A powerful framework used to build applications powered by language models, designed to simplify complex workflows and integrate external tools seamlessly.\n",
    "\n",
    "By the end of this recipe, you will accomplish the following:\n",
    "- Gain proficiency in document preprocessing, chunking and image understanding.\n",
    "- Integrate vector databases to enhance retrieval capabilities.\n",
    "- Use RAG to perform efficient and accurate data retrieval for real-world applications.\n",
    "\n",
    "This recipe is designed for AI developers, researchers and enthusiasts looking to enhance their knowledge of document management and advanced natural language processing (NLP) techniques.\n"
   ]
  },
  {
   "cell_type": "markdown",
   "metadata": {
    "id": "vooxv7ltEZBf"
   },
   "source": [
    "## Prerequisites"
   ]
  },
  {
   "cell_type": "markdown",
   "metadata": {},
   "source": [
    "- Familiarity with Python programming.\n",
    "- Basic understanding of LLMs, NLP concepts and computer vision."
   ]
  },
  {
   "cell_type": "markdown",
   "metadata": {
    "collapsed": false,
    "id": "PN2mK175_JRH",
    "jupyter": {
     "outputs_hidden": false
    },
    "pycharm": {
     "name": "#%% md\n"
    }
   },
   "source": [
    "## Step 1: Setting up the environment"
   ]
  },
  {
   "cell_type": "markdown",
   "metadata": {
    "id": "Wfg8kTVr_JRH"
   },
   "source": [
    "Ensure you are running Python 3.10, 3.11 or 3.12 in a freshly created virtual environment."
   ]
  },
  {
   "cell_type": "code",
   "execution_count": 6,
   "metadata": {
    "id": "UEoM938B_JRH"
   },
   "outputs": [],
   "source": [
    "import sys\n",
    "assert sys.version_info >= (3, 10) and sys.version_info < (3, 13), \"Use Python 3.10, 3.11, or 3.12 to run this notebook.\""
   ]
  },
  {
   "cell_type": "markdown",
   "metadata": {
    "collapsed": false,
    "id": "4p_2cX1-_JRI",
    "jupyter": {
     "outputs_hidden": false
    },
    "pycharm": {
     "name": "#%% md\n"
    }
   },
   "source": [
    "## Step 2: Install dependencies"
   ]
  },
  {
   "cell_type": "code",
   "execution_count": 7,
   "metadata": {
    "collapsed": false,
    "id": "BfMWUUSs_JRI",
    "jupyter": {
     "outputs_hidden": false
    },
    "pycharm": {
     "name": "#%%\n"
    }
   },
   "outputs": [],
   "source": [
    "%%capture\n",
    "!pip install -q --progress-bar on \"git+https://github.com/ibm-granite-community/utils.git\" \\\n",
    "    transformers \\\n",
    "    pillow \\\n",
    "    langchain_community \\\n",
    "    langchain_huggingface \\\n",
    "    langchain_milvus \\\n",
    "    docling"
   ]
  },
  {
   "cell_type": "code",
   "execution_count": 8,
   "metadata": {
    "id": "8187e47f-716e-4cb4-bf4b-9cf0e57574a0"
   },
   "outputs": [
    {
     "name": "stdout",
     "output_type": "stream",
     "text": [
      "Requirement already satisfied: PyPDF2 in /Users/denizaskin/telus-incident-mgmt-copilot/.venv/lib/python3.12/site-packages (3.0.1)\n",
      "Note: you may need to restart the kernel to use updated packages.\n"
     ]
    }
   ],
   "source": [
    "pip install PyPDF2"
   ]
  },
  {
   "cell_type": "markdown",
   "metadata": {
    "id": "4gu-Oeay_JRJ"
   },
   "source": [
    "## Step 3: Selecting the AI models"
   ]
  },
  {
   "cell_type": "markdown",
   "metadata": {},
   "source": [
    "### Logging"
   ]
  },
  {
   "cell_type": "markdown",
   "metadata": {},
   "source": [
    "To see some logging information, we can configure INFO log level.\n",
    "\n",
    "NOTE: It is okay to skip running this cell."
   ]
  },
  {
   "cell_type": "code",
   "execution_count": 9,
   "metadata": {
    "id": "f077bf1f-7c37-415c-bbba-c85676c9dec6"
   },
   "outputs": [],
   "source": [
    "import logging\n",
    "logging.basicConfig(level=logging.INFO)"
   ]
  },
  {
   "cell_type": "markdown",
   "metadata": {},
   "source": [
    "### Load the Granite models"
   ]
  },
  {
   "cell_type": "markdown",
   "metadata": {
    "id": "5c640df6-501c-4342-9dae-5420a7c8e163"
   },
   "source": [
    "Specify the embeddings model to use for generating text embedding vectors. Here we will use one of the [Granite Embeddings models](https://huggingface.co/collections/ibm-granite/granite-embedding-models-6750b30c802c1926a35550bb)\n",
    "\n",
    "To use a different embeddings model, replace this code cell with one from [this Embeddings Model recipe](https://github.com/ibm-granite-community/granite-kitchen/blob/main/recipes/Components/Langchain_Embeddings_Models.ipynb)."
   ]
  },
  {
   "cell_type": "markdown",
   "metadata": {
    "collapsed": false,
    "id": "nviHG3n7_JRK",
    "jupyter": {
     "outputs_hidden": false
    },
    "pycharm": {
     "name": "#%% md\n"
    }
   },
   "source": [
    "## Step 4: Preparing the documents for the vector database"
   ]
  },
  {
   "cell_type": "markdown",
   "metadata": {
    "id": "eZ7Guu7A_JRK"
   },
   "source": [
    "In this example, from a set of source documents, we use [Docling](https://docling-project.github.io/docling/) to convert the documents into text and images. The text is then split into chunks. The images are processed by the MLLM to generate image summaries."
   ]
  },
  {
   "cell_type": "markdown",
   "metadata": {
    "id": "HuB8kkzf_JRK"
   },
   "source": [
    "### Use Docling to download the documents and convert to text and images"
   ]
  },
  {
   "cell_type": "markdown",
   "metadata": {
    "id": "se6So2yw_JRK"
   },
   "source": [
    "Docling will download the PDF documents and process them so we can obtain the text and images the documents contain. In the PDF, there are various data types, including text, tables, graphs and images."
   ]
  },
  {
   "cell_type": "code",
   "execution_count": 36,
   "metadata": {},
   "outputs": [
    {
     "name": "stderr",
     "output_type": "stream",
     "text": [
      "INFO:docling.document_converter:Going to convert document batch...\n",
      "INFO:docling.document_converter:Initializing pipeline for StandardPdfPipeline with options hash 3e036157fb20985f12804535c7dd1f2d\n",
      "INFO:docling.utils.accelerator_utils:Accelerator device: 'mps'\n",
      "INFO:docling.utils.accelerator_utils:Accelerator device: 'mps'\n",
      "INFO:docling.pipeline.base_pipeline:Processing document system-mgmt-monitoring.pdf\n",
      "INFO:docling.document_converter:Finished converting document system-mgmt-monitoring.pdf in 21.76 sec.\n"
     ]
    }
   ],
   "source": [
    "import io\n",
    "from PyPDF2 import PdfReader, PdfWriter\n",
    "from docling.document_converter import DocumentConverter, PdfFormatOption\n",
    "from docling.datamodel.base_models import InputFormat, DocumentStream\n",
    "from docling.datamodel.pipeline_options import PdfPipelineOptions\n",
    "\n",
    "# Specify the local PDF path and the number of pages to process\n",
    "local_pdf_path = \"/Users/denizaskin/telus-incident-mgmt-copilot/notebooks/wxO_api/system-mgmt-monitoring.pdf\"\n",
    "\n",
    "# Read the PDF and extract the first n pages\n",
    "with open(local_pdf_path, \"rb\") as f:\n",
    "    reader = PdfReader(f)\n",
    "    n_pages = len(reader.pages)  # Number of pages to read - set n_pages = len(reader.pages)\n",
    "    writer = PdfWriter()\n",
    "    for i in range(min(n_pages, len(reader.pages))):\n",
    "        writer.add_page(reader.pages[i])\n",
    "\n",
    "    # Write the selected pages to a BytesIO stream\n",
    "    pdf_bytes_io = io.BytesIO()\n",
    "    writer.write(pdf_bytes_io)\n",
    "    pdf_bytes_io.seek(0)  # Reset the stream position to the beginning\n",
    "\n",
    "# Create a DocumentStream from the BytesIO stream\n",
    "document_stream = DocumentStream(\n",
    "    name=\"system-mgmt-monitoring.pdf\",  # Required: filename with .pdf extension\n",
    "    stream=pdf_bytes_io,  # Pass the PDF as a BytesIO stream\n",
    "    input_format=InputFormat.PDF\n",
    ")\n",
    "\n",
    "# Set PDF pipeline options\n",
    "pdf_pipeline_options = PdfPipelineOptions(\n",
    "    do_ocr=False,\n",
    "    generate_picture_images=True,\n",
    ")\n",
    "format_options = {\n",
    "    InputFormat.PDF: PdfFormatOption(pipeline_options=pdf_pipeline_options),\n",
    "}\n",
    "\n",
    "# Initialize the converter and convert the document\n",
    "converter = DocumentConverter(format_options=format_options)\n",
    "converted_document = converter.convert(source=document_stream).document"
   ]
  },
  {
   "cell_type": "code",
   "execution_count": 37,
   "metadata": {},
   "outputs": [
    {
     "name": "stdout",
     "output_type": "stream",
     "text": [
      "Top-level structure (truncated):\n",
      "schema_name:\n",
      "'DoclingDocument'\n",
      "\n",
      "version:\n",
      "'1.3.0'\n",
      "\n",
      "name:\n",
      "'system-mgmt-monitoring'\n",
      "\n",
      "origin:\n",
      "{'binary_hash': 1910126399523377042,\n",
      " 'filename': 'system-mgmt-monitoring.pdf',\n",
      " 'mimetype': 'application/pdf',\n",
      " 'uri': None}\n",
      "\n",
      "furniture:\n",
      "{'children': [],\n",
      " 'content_layer': <ContentLayer.FURNITURE: 'furniture'>,\n",
      " 'label': <GroupLabel.UNSPECIFIED: 'unspecified'>,\n",
      " 'name': '_root_',\n",
      " 'parent': None,\n",
      " 'self_ref': '#/furniture'}\n",
      "\n",
      "body:\n",
      "{'children': [{'cref': '#/pictures/0'},\n",
      "              {'cref': '#/texts/0'},\n",
      "              {'cref': '#/pictures/1'},\n",
      "              {'cref': '#/pictures/2'},\n",
      "              {'cref': '#/texts/3'},\n",
      "              {'cref': '#/texts/4'},\n",
      "              {'cref': '#/texts/5'},\n",
      "              {'cref': '#/texts/6'},\n",
      "              {'cref': '#/texts/7'},\n",
      "              {'cref': '#/texts/8'},\n",
      "              {'cref': '#/texts/9'},\n",
      "              {'cref': '#/texts/10'},\n",
      "              {'cref': '#/texts/11'},\n",
      "              {'cref': '#/texts/12'},\n",
      "              {'cref': '#/texts/13'},\n",
      "              {'cref': '#/texts/14'},\n",
      "              {'cref': '#/texts/15'},\n",
      "              {'cref': '#/texts/16'},\n",
      "              {'cref': '#/texts/17'},\n",
      "              {'cref': '#/texts/18'},\n",
      "              {'cref': '#/texts/19'},\n",
      "              {'cref': '#/texts/20'},\n",
      "              {'cref': '#/texts/21'},\n",
      "              {'cref': '#/texts/22'},\n",
      "              {'cref': '#/texts/23'},\n",
      "              {'cref': '#/texts/24'},\n",
      "              {'cref': '#/texts/25'},\n",
      "              {'cref': '#/texts/26'},\n",
      "              {'cref': '#/pictures/3'},\n",
      "              {'cref': '#/texts/28'},\n",
      "              {'cref': '#/texts/29'},\n",
      "              {'cref': '#/texts/30'},\n",
      "              {'cref': '#/texts/31'},\n",
      "              {'cref': '#/texts/32'},\n",
      "              {'cref': '#/pictures/4'},\n",
      "              {'cref': '#/texts/49'},\n",
      "              {'cref': '#/texts/50'},\n",
      "              {'cref': '#/groups/0'},\n",
      "              {'cref': '#/texts/61'},\n",
      "              {'cref': '#/groups/1'},\n",
      "              {'cref': '#/texts/64'},\n",
      "              {'cref': '#/texts/65'},\n",
      "              {'cref': '#/pictures/5'},\n",
      "              {'cref': '#/texts/66'},\n",
      "              {'cref': '#/texts/67'},\n",
      "              {'cref': '#/texts/68'},\n",
      "              {'cref': '#/texts/69'},\n",
      "              {'cref': '#/texts/70'},\n",
      "              {'cref': '#/texts/71'},\n",
      "              {'cref': '#/pictures/6'},\n",
      "              {'cref': '#/texts/72'},\n",
      "              {'cref': '#/texts/73'},\n",
      "              {'cref': '#/texts/74'},\n",
      "              {'cref': '#/texts/75'},\n",
      "              {'cref': '#/texts/76'},\n",
      "              {'cref': '#/texts/77'},\n",
      "              {'cref': '#/texts/78'},\n",
      "              {'cref': '#/texts/79'},\n",
      "              {'cref': '#/texts/80'},\n",
      "              {'cref': '#/texts/81'},\n",
      "              {'cref': '#/groups/2'},\n",
      "              {'cref': '#/texts/83'},\n",
      "              {'cref': '#/texts/84'},\n",
      "              {'cref': '#/texts/85'},\n",
      "              {'cref': '#/texts/86'},\n",
      "              {'cref': '#/texts/87'},\n",
      "              {'cref': '#/texts/88'},\n",
      "              {'cref': '#/texts/89'},\n",
      "              {'cref': '#/texts/90'},\n",
      "              {'cref': '#/groups/3'},\n",
      "              {'cref': '#/texts/93'},\n",
      "              {'cref': '#/texts/94'},\n",
      "              {'cref': '#/texts/95'},\n",
      "              {'cref': '#/groups/4'},\n",
      "              {'cref': '#/texts/97'},\n",
      "              {'cref': '#/groups/5'},\n",
      "              {'cref': '#/pictures/7'},\n",
      "              {'cref': '#/texts/99'},\n",
      "              {'cref': '#/groups/6'},\n",
      "              {'cref': '#/texts/102'},\n",
      "              {'cref': '#/pictures/8'},\n",
      "              {'cref': '#/texts/103'},\n",
      "              {'cref': '#/groups/7'},\n",
      "              {'cref': '#/pictures/9'},\n",
      "              {'cref': '#/texts/105'},\n",
      "              {'cref': '#/texts/106'},\n",
      "              {'cref': '#/texts/107'},\n",
      "              {'cref': '#/texts/108'},\n",
      "              {'cref': '#/texts/109'},\n",
      "              {'cref': '#/texts/110'},\n",
      "              {'cref': '#/texts/111'},\n",
      "              {'cref': '#/texts/112'},\n",
      "              {'cref': '#/texts/113'},\n",
      "              {'cref': '#/texts/114'},\n",
      "              {'cref': '#/texts/115'},\n",
      "              {'cref': '#/groups/8'},\n",
      "              {'cref': '#/texts/119'},\n",
      "              {'cref': '#/texts/120'},\n",
      "              {'cref': '#/texts/121'},\n",
      "              {'cref': '#/texts/122'},\n",
      "              {'cref': '#/texts/123'},\n",
      "              {'cref': '#/pictures/10'},\n",
      "              {'cref': '#/texts/124'},\n",
      "              {'cref': '#/texts/125'},\n",
      "              {'cref': '#/groups/9'},\n",
      "              {'cref': '#/texts/127'},\n",
      "              {'cref': '#/texts/128'},\n",
      "              {'cref': '#/texts/129'},\n",
      "              {'cref': '#/texts/130'},\n",
      "              {'cref': '#/texts/131'},\n",
      "              {'cref': '#/groups/10'},\n",
      "              {'cref': '#/texts/133'},\n",
      "              {'cref': '#/texts/134'},\n",
      "              {'cref': '#/groups/11'},\n",
      "              {'cref': '#/texts/136'},\n",
      "              {'cref': '#/texts/137'},\n",
      "              {'cref': '#/texts/138'},\n",
      "              {'cref': '#/texts/139'},\n",
      "              {'cref': '#/texts/140'},\n",
      "              {'cref': '#/texts/141'},\n",
      "              {'cref': '#/texts/142'},\n",
      "              {'cref': '#/texts/143'},\n",
      "              {'cref': '#/texts/144'},\n",
      "              {'cref': '#/texts/145'},\n",
      "              {'cref': '#/texts/146'},\n",
      "              {'cref': '#/texts/147'},\n",
      "              {'cref': '#/texts/148'},\n",
      "              {'cref': '#/texts/149'},\n",
      "              {'cref': '#/texts/150'},\n",
      "              {'cref': '#/texts/151'},\n",
      "              {'cref': '#/texts/152'},\n",
      "              {'cref': '#/texts/153'},\n",
      "              {'cref': '#/groups/12'},\n",
      "              {'cref': '#/texts/156'},\n",
      "              {'cref': '#/texts/157'},\n",
      "              {'cref': '#/texts/158'},\n",
      "              {'cref': '#/texts/159'},\n",
      "              {'cref': '#/texts/160'},\n",
      "              {'cref': '#/texts/161'},\n",
      "              {'cref': '#/groups/13'},\n",
      "              {'cref': '#/texts/165'},\n",
      "              {'cref': '#/texts/166'},\n",
      "              {'cref': '#/texts/167'},\n",
      "              {'cref': '#/texts/168'},\n",
      "              {'cref': '#/texts/169'},\n",
      "              {'cref': '#/texts/170'},\n",
      "              {'cref': '#/texts/171'},\n",
      "              {'cref': '#/texts/172'},\n",
      "              {'cref': '#/texts/173'},\n",
      "              {'cref': '#/texts/174'},\n",
      "              {'cref': '#/pictures/11'},\n",
      "              {'cref': '#/texts/175'},\n",
      "              {'cref': '#/texts/176'},\n",
      "              {'cref': '#/texts/177'},\n",
      "              {'cref': '#/texts/178'},\n",
      "              {'cref': '#/texts/179'},\n",
      "              {'cref': '#/groups/14'},\n",
      "              {'cref': '#/texts/181'},\n",
      "              {'cref': '#/texts/182'},\n",
      "              {'cref': '#/texts/183'},\n",
      "              {'cref': '#/texts/184'},\n",
      "              {'cref': '#/groups/15'},\n",
      "              {'cref': '#/texts/186'},\n",
      "              {'cref': '#/texts/187'},\n",
      "              {'cref': '#/texts/188'},\n",
      "              {'cref': '#/texts/189'},\n",
      "              {'cref': '#/groups/16'},\n",
      "              {'cref': '#/texts/193'},\n",
      "              {'cref': '#/texts/194'},\n",
      "              {'cref': '#/texts/195'},\n",
      "              {'cref': '#/texts/196'},\n",
      "              {'cref': '#/groups/17'},\n",
      "              {'cref': '#/texts/198'},\n",
      "              {'cref': '#/texts/199'},\n",
      "              {'cref': '#/texts/200'},\n",
      "              {'cref': '#/texts/201'},\n",
      "              {'cref': '#/texts/202'},\n",
      "              {'cref': '#/texts/203'},\n",
      "              {'cref': '#/groups/18'},\n",
      "              {'cref': '#/texts/205'},\n",
      "              {'cref': '#/texts/207'},\n",
      "              {'cref': '#/groups/19'},\n",
      "              {'cref': '#/texts/209'},\n",
      "              {'cref': '#/texts/210'},\n",
      "              {'cref': '#/texts/211'},\n",
      "              {'cref': '#/texts/212'},\n",
      "              {'cref': '#/texts/213'},\n",
      "              {'cref': '#/texts/214'},\n",
      "              {'cref': '#/texts/215'},\n",
      "              {'cref': '#/texts/216'},\n",
      "              {'cref': '#/texts/217'},\n",
      "              {'cref': '#/texts/218'},\n",
      "              {'cref': '#/texts/219'},\n",
      "              {'cref': '#/texts/220'},\n",
      "              {'cref': '#/texts/221'},\n",
      "              {'cref': '#/groups/20'},\n",
      "              {'cref': '#/texts/225'},\n",
      "              {'cref': '#/texts/226'},\n",
      "              {'cref': '#/texts/227'},\n",
      "              {'cref': '#/groups/21'},\n",
      "              {'cref': '#/texts/230'},\n",
      "              {'cref': '#/texts/231'},\n",
      "              {'cref': '#/texts/232'},\n",
      "              {'cref': '#/texts/233'},\n",
      "              {'cref': '#/texts/234'},\n",
      "              {'cref': '#/texts/235'},\n",
      "              {'cref': '#/pictures/12'},\n",
      "              {'cref': '#/texts/236'},\n",
      "              {'cref': '#/groups/22'},\n",
      "              {'cref': '#/texts/239'},\n",
      "              {'cref': '#/texts/240'},\n",
      "              {'cref': '#/texts/241'},\n",
      "              {'cref': '#/groups/23'},\n",
      "              {'cref': '#/texts/243'},\n",
      "              {'cref': '#/texts/245'},\n",
      "              {'cref': '#/texts/246'},\n",
      "              {'cref': '#/texts/247'},\n",
      "              {'cref': '#/groups/24'},\n",
      "              {'cref': '#/texts/249'},\n",
      "              {'cref': '#/texts/250'},\n",
      "              {'cref': '#/groups/25'},\n",
      "              {'cref': '#/texts/252'},\n",
      "              {'cref': '#/texts/253'},\n",
      "              {'cref': '#/texts/254'},\n",
      "              {'cref': '#/groups/26'},\n",
      "              {'cref': '#/texts/258'},\n",
      "              {'cref': '#/texts/259'},\n",
      "              {'cref': '#/texts/260'},\n",
      "              {'cref': '#/texts/261'},\n",
      "              {'cref': '#/texts/262'},\n",
      "              {'cref': '#/texts/263'},\n",
      "              {'cref': '#/texts/264'},\n",
      "              {'cref': '#/texts/265'},\n",
      "              {'cref': '#/texts/266'},\n",
      "              {'cref': '#/texts/267'},\n",
      "              {'cref': '#/texts/268'},\n",
      "              {'cref': '#/texts/269'},\n",
      "              {'cref': '#/texts/270'},\n",
      "              {'cref': '#/texts/271'},\n",
      "              {'cref': '#/texts/272'},\n",
      "              {'cref': '#/texts/273'},\n",
      "              {'cref': '#/texts/274'},\n",
      "              {'cref': '#/texts/275'},\n",
      "              {'cref': '#/texts/276'},\n",
      "              {'cref': '#/texts/277'},\n",
      "              {'cref': '#/texts/278'},\n",
      "              {'cref': '#/texts/279'},\n",
      "              {'cref': '#/texts/280'},\n",
      "              {'cref': '#/texts/281'},\n",
      "              {'cref': '#/texts/282'},\n",
      "              {'cref': '#/texts/283'},\n",
      "              {'cref': '#/texts/284'},\n",
      "              {'cref': '#/texts/285'},\n",
      "              {'cref': '#/groups/27'},\n",
      "              {'cref': '#/texts/287'},\n",
      "              {'cref': '#/texts/289'},\n",
      "              {'cref': '#/texts/290'},\n",
      "              {'cref': '#/texts/291'},\n",
      "              {'cref': '#/texts/292'},\n",
      "              {'cref': '#/groups/28'},\n",
      "              {'cref': '#/texts/295'},\n",
      "              {'cref': '#/pictures/13'},\n",
      "              {'cref': '#/texts/296'},\n",
      "              {'cref': '#/texts/297'},\n",
      "              {'cref': '#/texts/298'},\n",
      "              {'cref': '#/texts/299'},\n",
      "              {'cref': '#/texts/300'},\n",
      "              {'cref': '#/texts/301'},\n",
      "              {'cref': '#/texts/302'},\n",
      "              {'cref': '#/texts/303'},\n",
      "              {'cref': '#/texts/304'},\n",
      "              {'cref': '#/pictures/14'},\n",
      "              {'cref': '#/texts/305'},\n",
      "              {'cref': '#/groups/29'},\n",
      "              {'cref': '#/texts/307'},\n",
      "              {'cref': '#/texts/308'},\n",
      "              {'cref': '#/groups/30'},\n",
      "              {'cref': '#/texts/310'},\n",
      "              {'cref': '#/texts/311'},\n",
      "              {'cref': '#/texts/312'},\n",
      "              {'cref': '#/texts/313'},\n",
      "              {'cref': '#/texts/314'},\n",
      "              {'cref': '#/texts/315'},\n",
      "              {'cref': '#/texts/316'},\n",
      "              {'cref': '#/texts/317'},\n",
      "              {'cref': '#/texts/318'},\n",
      "              {'cref': '#/groups/31'},\n",
      "              {'cref': '#/texts/322'},\n",
      "              {'cref': '#/texts/323'},\n",
      "              {'cref': '#/texts/324'},\n",
      "              {'cref': '#/texts/325'},\n",
      "              {'cref': '#/texts/326'},\n",
      "              {'cref': '#/pictures/15'},\n",
      "              {'cref': '#/texts/327'},\n",
      "              {'cref': '#/texts/328'},\n",
      "              {'cref': '#/texts/329'},\n",
      "              {'cref': '#/texts/330'},\n",
      "              {'cref': '#/pictures/16'},\n",
      "              {'cref': '#/texts/331'},\n",
      "              {'cref': '#/texts/332'},\n",
      "              {'cref': '#/texts/333'},\n",
      "              {'cref': '#/texts/334'},\n",
      "              {'cref': '#/texts/335'},\n",
      "              {'cref': '#/texts/336'},\n",
      "              {'cref': '#/tables/0'},\n",
      "              {'cref': '#/texts/338'},\n",
      "              {'cref': '#/tables/1'},\n",
      "              {'cref': '#/texts/340'},\n",
      "              {'cref': '#/tables/2'},\n",
      "              {'cref': '#/texts/342'},\n",
      "              {'cref': '#/texts/343'},\n",
      "              {'cref': '#/texts/344'},\n",
      "              {'cref': '#/texts/345'},\n",
      "              {'cref': '#/texts/346'},\n",
      "              {'cref': '#/texts/347'},\n",
      "              {'cref': '#/texts/348'},\n",
      "              {'cref': '#/texts/349'},\n",
      "              {'cref': '#/groups/32'},\n",
      "              {'cref': '#/texts/352'},\n",
      "              {'cref': '#/texts/353'},\n",
      "              {'cref': '#/groups/33'},\n",
      "              {'cref': '#/texts/355'},\n",
      "              {'cref': '#/texts/357'},\n",
      "              {'cref': '#/texts/358'},\n",
      "              {'cref': '#/groups/34'},\n",
      "              {'cref': '#/texts/360'},\n",
      "              {'cref': '#/texts/361'},\n",
      "              {'cref': '#/texts/362'},\n",
      "              {'cref': '#/texts/363'},\n",
      "              {'cref': '#/texts/364'},\n",
      "              {'cref': '#/texts/365'},\n",
      "              {'cref': '#/texts/366'},\n",
      "              {'cref': '#/texts/367'},\n",
      "              {'cref': '#/texts/368'},\n",
      "              {'cref': '#/texts/369'},\n",
      "              {'cref': '#/texts/370'},\n",
      "              {'cref': '#/texts/371'},\n",
      "              {'cref': '#/groups/35'},\n",
      "              {'cref': '#/texts/376'},\n",
      "              {'cref': '#/texts/377'},\n",
      "              {'cref': '#/pictures/17'},\n",
      "              {'cref': '#/texts/385'},\n",
      "              {'cref': '#/texts/386'},\n",
      "              {'cref': '#/texts/387'},\n",
      "              {'cref': '#/texts/388'},\n",
      "              {'cref': '#/groups/36'},\n",
      "              {'cref': '#/texts/392'},\n",
      "              {'cref': '#/texts/393'},\n",
      "              {'cref': '#/tables/3'},\n",
      "              {'cref': '#/texts/395'},\n",
      "              {'cref': '#/tables/4'},\n",
      "              {'cref': '#/texts/397'},\n",
      "              {'cref': '#/tables/5'},\n",
      "              {'cref': '#/texts/399'},\n",
      "              {'cref': '#/texts/400'},\n",
      "              {'cref': '#/texts/401'},\n",
      "              {'cref': '#/texts/402'},\n",
      "              {'cref': '#/pictures/18'},\n",
      "              {'cref': '#/texts/410'},\n",
      "              {'cref': '#/texts/411'},\n",
      "              {'cref': '#/texts/412'},\n",
      "              {'cref': '#/texts/413'},\n",
      "              {'cref': '#/texts/414'},\n",
      "              {'cref': '#/texts/415'},\n",
      "              {'cref': '#/texts/416'},\n",
      "              {'cref': '#/texts/417'},\n",
      "              {'cref': '#/tables/6'},\n",
      "              {'cref': '#/texts/419'},\n",
      "              {'cref': '#/tables/7'},\n",
      "              {'cref': '#/texts/421'},\n",
      "              {'cref': '#/texts/422'},\n",
      "              {'cref': '#/texts/423'},\n",
      "              {'cref': '#/texts/424'},\n",
      "              {'cref': '#/texts/425'},\n",
      "              {'cref': '#/texts/426'},\n",
      "              {'cref': '#/texts/427'},\n",
      "              {'cref': '#/texts/428'},\n",
      "              {'cref': '#/texts/429'},\n",
      "              {'cref': '#/texts/430'},\n",
      "              {'cref': '#/texts/431'},\n",
      "              {'cref': '#/groups/37'},\n",
      "              {'cref': '#/pictures/19'},\n",
      "              {'cref': '#/texts/433'},\n",
      "              {'cref': '#/groups/38'},\n",
      "              {'cref': '#/texts/435'},\n",
      "              {'cref': '#/groups/39'},\n",
      "              {'cref': '#/pictures/20'},\n",
      "              {'cref': '#/texts/437'},\n",
      "              {'cref': '#/groups/40'},\n",
      "              {'cref': '#/texts/449'},\n",
      "              {'cref': '#/groups/41'},\n",
      "              {'cref': '#/texts/456'},\n",
      "              {'cref': '#/groups/42'},\n",
      "              {'cref': '#/texts/458'},\n",
      "              {'cref': '#/texts/459'},\n",
      "              {'cref': '#/texts/460'},\n",
      "              {'cref': '#/texts/461'},\n",
      "              {'cref': '#/groups/43'},\n",
      "              {'cref': '#/texts/469'},\n",
      "              {'cref': '#/texts/470'},\n",
      "              {'cref': '#/texts/471'},\n",
      "              {'cref': '#/texts/472'},\n",
      "              {'cref': '#/texts/473'},\n",
      "              {'cref': '#/texts/474'},\n",
      "              {'cref': '#/tables/8'},\n",
      "              {'cref': '#/texts/475'},\n",
      "              {'cref': '#/texts/476'},\n",
      "              {'cref': '#/texts/477'},\n",
      "              {'cref': '#/texts/478'},\n",
      "              {'cref': '#/groups/44'},\n",
      "              {'cref': '#/texts/481'},\n",
      "              {'cref': '#/texts/482'},\n",
      "              {'cref': '#/groups/45'},\n",
      "              {'cref': '#/texts/484'},\n",
      "              {'cref': '#/texts/485'},\n",
      "              {'cref': '#/texts/486'},\n",
      "              {'cref': '#/texts/487'},\n",
      "              {'cref': '#/groups/46'},\n",
      "              {'cref': '#/texts/489'},\n",
      "              {'cref': '#/groups/47'},\n",
      "              {'cref': '#/texts/498'},\n",
      "              {'cref': '#/pictures/21'},\n",
      "              {'cref': '#/texts/508'},\n",
      "              {'cref': '#/texts/509'},\n",
      "              {'cref': '#/texts/510'},\n",
      "              {'cref': '#/texts/511'},\n",
      "              {'cref': '#/texts/512'},\n",
      "              {'cref': '#/texts/513'},\n",
      "              {'cref': '#/groups/48'},\n",
      "              {'cref': '#/texts/518'},\n",
      "              {'cref': '#/texts/519'},\n",
      "              {'cref': '#/groups/49'},\n",
      "              {'cref': '#/texts/521'},\n",
      "              {'cref': '#/texts/522'},\n",
      "              {'cref': '#/texts/523'},\n",
      "              {'cref': '#/texts/524'},\n",
      "              {'cref': '#/texts/525'},\n",
      "              {'cref': '#/pictures/22'},\n",
      "              {'cref': '#/texts/527'},\n",
      "              {'cref': '#/texts/528'},\n",
      "              {'cref': '#/groups/50'},\n",
      "              {'cref': '#/texts/531'},\n",
      "              {'cref': '#/texts/532'},\n",
      "              {'cref': '#/texts/533'},\n",
      "              {'cref': '#/texts/534'},\n",
      "              {'cref': '#/texts/535'},\n",
      "              {'cref': '#/texts/536'},\n",
      "              {'cref': '#/texts/537'},\n",
      "              {'cref': '#/texts/538'},\n",
      "              {'cref': '#/texts/539'},\n",
      "              {'cref': '#/groups/51'},\n",
      "              {'cref': '#/texts/541'},\n",
      "              {'cref': '#/texts/543'},\n",
      "              {'cref': '#/texts/544'},\n",
      "              {'cref': '#/groups/52'},\n",
      "              {'cref': '#/texts/546'},\n",
      "              {'cref': '#/texts/548'},\n",
      "              {'cref': '#/texts/550'},\n",
      "              {'cref': '#/texts/553'},\n",
      "              {'cref': '#/texts/554'},\n",
      "              {'cref': '#/groups/53'},\n",
      "              {'cref': '#/texts/557'},\n",
      "              {'cref': '#/texts/558'},\n",
      "              {'cref': '#/texts/559'},\n",
      "              {'cref': '#/texts/560'},\n",
      "              {'cref': '#/texts/561'},\n",
      "              {'cref': '#/texts/562'},\n",
      "              {'cref': '#/texts/563'},\n",
      "              {'cref': '#/groups/54'},\n",
      "              {'cref': '#/texts/565'},\n",
      "              {'cref': '#/groups/55'},\n",
      "              {'cref': '#/texts/592'},\n",
      "              {'cref': '#/texts/593'},\n",
      "              {'cref': '#/texts/594'},\n",
      "              {'cref': '#/texts/595'},\n",
      "              {'cref': '#/texts/596'},\n",
      "              {'cref': '#/texts/597'},\n",
      "              {'cref': '#/texts/598'},\n",
      "              {'cref': '#/groups/56'},\n",
      "              {'cref': '#/texts/603'},\n",
      "              {'cref': '#/texts/604'},\n",
      "              {'cref': '#/texts/605'},\n",
      "              {'cref': '#/texts/606'},\n",
      "              {'cref': '#/texts/607'},\n",
      "              {'cref': '#/texts/608'},\n",
      "              {'cref': '#/texts/609'},\n",
      "              {'cref': '#/texts/610'},\n",
      "              {'cref': '#/texts/611'},\n",
      "              {'cref': '#/texts/612'},\n",
      "              {'cref': '#/texts/613'},\n",
      "              {'cref': '#/texts/614'},\n",
      "              {'cref': '#/texts/615'},\n",
      "              {'cref': '#/groups/57'},\n",
      "              {'cref': '#/texts/616'},\n",
      "              {'cref': '#/texts/617'},\n",
      "              {'cref': '#/texts/618'},\n",
      "              {'cref': '#/texts/619'},\n",
      "              {'cref': '#/texts/620'},\n",
      "              {'cref': '#/texts/621'},\n",
      "              {'cref': '#/texts/622'},\n",
      "              {'cref': '#/texts/623'},\n",
      "              {'cref': '#/texts/624'},\n",
      "              {'cref': '#/texts/625'},\n",
      "              {'cref': '#/texts/626'},\n",
      "              {'cref': '#/texts/627'},\n",
      "              {'cref': '#/texts/628'},\n",
      "              {'cref': '#/texts/629'},\n",
      "              {'cref': '#/texts/630'},\n",
      "              {'cref': '#/texts/631'},\n",
      "              {'cref': '#/texts/632'},\n",
      "              {'cref': '#/texts/633'},\n",
      "              {'cref': '#/texts/634'},\n",
      "              {'cref': '#/texts/635'},\n",
      "              {'cref': '#/texts/636'},\n",
      "              {'cref': '#/texts/637'},\n",
      "              {'cref': '#/texts/638'},\n",
      "              {'cref': '#/texts/639'},\n",
      "              {'cref': '#/tables/9'},\n",
      "              {'cref': '#/texts/640'},\n",
      "              {'cref': '#/texts/641'},\n",
      "              {'cref': '#/texts/642'},\n",
      "              {'cref': '#/groups/58'},\n",
      "              {'cref': '#/texts/645'},\n",
      "              {'cref': '#/texts/646'},\n",
      "              {'cref': '#/groups/59'},\n",
      "              {'cref': '#/texts/653'},\n",
      "              {'cref': '#/texts/654'},\n",
      "              {'cref': '#/groups/60'},\n",
      "              {'cref': '#/texts/657'},\n",
      "              {'cref': '#/texts/658'},\n",
      "              {'cref': '#/texts/659'},\n",
      "              {'cref': '#/texts/660'},\n",
      "              {'cref': '#/texts/661'},\n",
      "              {'cref': '#/groups/61'},\n",
      "              {'cref': '#/texts/664'},\n",
      "              {'cref': '#/texts/666'},\n",
      "              {'cref': '#/texts/667'},\n",
      "              {'cref': '#/groups/62'},\n",
      "              {'cref': '#/texts/673'},\n",
      "              {'cref': '#/texts/675'},\n",
      "              {'cref': '#/texts/676'},\n",
      "              {'cref': '#/texts/677'},\n",
      "              {'cref': '#/texts/678'},\n",
      "              {'cref': '#/groups/63'},\n",
      "              {'cref': '#/texts/681'},\n",
      "              {'cref': '#/texts/683'},\n",
      "              {'cref': '#/texts/684'},\n",
      "              {'cref': '#/groups/64'},\n",
      "              {'cref': '#/texts/690'},\n",
      "              {'cref': '#/texts/691'},\n",
      "              {'cref': '#/texts/692'},\n",
      "              {'cref': '#/texts/693'},\n",
      "              {'cref': '#/groups/65'},\n",
      "              {'cref': '#/texts/695'},\n",
      "              {'cref': '#/texts/696'},\n",
      "              {'cref': '#/texts/697'},\n",
      "              {'cref': '#/texts/698'},\n",
      "              {'cref': '#/texts/699'},\n",
      "              {'cref': '#/texts/700'},\n",
      "              {'cref': '#/texts/701'},\n",
      "              {'cref': '#/pictures/23'},\n",
      "              {'cref': '#/texts/703'},\n",
      "              {'cref': '#/texts/704'},\n",
      "              {'cref': '#/groups/66'},\n",
      "              {'cref': '#/texts/706'},\n",
      "              {'cref': '#/texts/707'},\n",
      "              {'cref': '#/texts/708'},\n",
      "              {'cref': '#/texts/709'},\n",
      "              {'cref': '#/texts/710'},\n",
      "              {'cref': '#/groups/67'}],\n",
      " 'content_layer': <ContentLayer.BODY: 'body'>,\n",
      " 'label': <GroupLabel.UNSPECIFIED: 'unspecified'>,\n",
      " 'name': '_root_',\n",
      " 'parent': None,\n",
      " 'self_ref': '#/body'}\n",
      "\n"
     ]
    }
   ],
   "source": [
    "from pprint import pprint\n",
    "\n",
    "# Convert the entire document to a dict\n",
    "doc_dict = converted_document.model_dump()\n",
    "\n",
    "# Option 1: Print first 3 top-level keys (if it's deeply nested)\n",
    "print(\"Top-level structure (truncated):\")\n",
    "for key in list(doc_dict.keys())[:6]:\n",
    "    print(f\"{key}:\")\n",
    "    pprint(doc_dict[key])\n",
    "    print()\n",
    "\n",
    "# Option 2: If you want just a few content blocks:\n",
    "if \"content_blocks\" in doc_dict:\n",
    "    print(\"First few content blocks:\")\n",
    "    for i, block in enumerate(doc_dict[\"content_blocks\"][:5]):\n",
    "        print(f\"\\n--- Block {i} ---\")\n",
    "        pprint(block)"
   ]
  },
  {
   "cell_type": "code",
   "execution_count": null,
   "metadata": {
    "id": "659ace88-b51b-4cf7-98b6-676babcfec5b",
    "scrolled": true
   },
   "outputs": [
    {
     "name": "stderr",
     "output_type": "stream",
     "text": [
      "Token indices sequence length is longer than the specified maximum sequence length for this model (1034 > 1024). Running this sequence through the model will result in indexing errors\n"
     ]
    },
    {
     "name": "stdout",
     "output_type": "stream",
     "text": [
      "#/texts/4 #/texts/5 #/texts/6 #/texts/7 #/texts/8\n",
      "#/texts/10\n",
      "#/texts/12\n",
      "#/texts/15 #/texts/16\n",
      "#/texts/19 #/texts/21\n",
      "#/texts/23\n",
      "#/texts/26 #/texts/28\n",
      "#/texts/30\n",
      "#/texts/50 #/texts/51 #/texts/52 #/texts/53 #/texts/54 #/texts/55 #/texts/56 #/texts/57 #/texts/58 #/texts/59 #/texts/60 #/texts/62 #/texts/63\n",
      "#/texts/65 #/texts/66\n",
      "#/texts/68 #/texts/69 #/texts/70 #/texts/71 #/texts/72 #/texts/73 #/texts/75 #/texts/76\n",
      "#/texts/78 #/texts/79\n",
      "#/texts/81 #/texts/82 #/texts/83 #/texts/84\n",
      "#/texts/86\n",
      "#/texts/89 #/texts/90 #/texts/91 #/texts/92 #/texts/93\n",
      "#/texts/95 #/texts/96 #/texts/98\n",
      "#/texts/100 #/texts/101 #/texts/102 #/texts/103 #/texts/104 #/texts/105 #/texts/107\n",
      "#/texts/109 #/texts/110 #/texts/111\n",
      "#/texts/113\n",
      "#/texts/116 #/texts/117 #/texts/118\n",
      "#/texts/120 #/texts/121 #/texts/123 #/texts/124 #/texts/125 #/texts/126 #/texts/127 #/texts/128 #/texts/129 #/texts/130 #/texts/131 #/texts/132 #/texts/133 #/texts/134 #/texts/135 #/texts/136 #/texts/138 #/texts/139\n",
      "#/texts/141 #/texts/142 #/texts/143 #/texts/144\n",
      "#/texts/146\n",
      "#/texts/148 #/texts/149 #/texts/151\n",
      "#/texts/154 #/texts/155\n",
      "#/texts/157 #/texts/159\n",
      "#/texts/161 #/texts/162 #/texts/163 #/texts/164\n",
      "#/texts/166\n",
      "#/texts/168 #/texts/169 #/texts/170 #/texts/171 #/texts/173 #/texts/174 #/texts/175 #/texts/176 #/texts/177 #/texts/178 #/texts/179 #/texts/180 #/texts/181 #/texts/182 #/texts/183 #/texts/184 #/texts/185 #/texts/187 #/texts/188 #/texts/189 #/texts/190 #/texts/191 #/texts/192 #/texts/193 #/texts/194 #/texts/195 #/texts/196 #/texts/197 #/texts/198 #/texts/199 #/texts/200\n",
      "#/texts/202 #/texts/203 #/texts/204 #/texts/206 #/texts/205 #/texts/207 #/texts/208 #/texts/209 #/texts/210 #/texts/211 #/texts/212 #/texts/213\n",
      "#/texts/217\n",
      "#/texts/219 #/texts/220 #/texts/221 #/texts/222 #/texts/223 #/texts/224 #/texts/225 #/texts/228 #/texts/229 #/texts/230\n",
      "#/texts/232 #/texts/234 #/texts/235\n",
      "#/texts/237 #/texts/238\n",
      "#/texts/240 #/texts/241 #/texts/242 #/texts/244 #/texts/243 #/texts/245 #/texts/246 #/texts/247 #/texts/248 #/texts/249 #/texts/251 #/texts/252\n",
      "#/texts/255 #/texts/256 #/texts/257 #/texts/258\n",
      "#/texts/260 #/texts/261 #/texts/262\n",
      "#/texts/264 #/texts/266 #/texts/267 #/texts/268 #/texts/269 #/texts/270\n",
      "#/texts/272 #/texts/273 #/texts/274 #/texts/275 #/texts/276\n",
      "#/texts/279 #/texts/280 #/texts/281 #/texts/282 #/texts/283\n",
      "#/texts/285 #/texts/286 #/texts/288 #/texts/287 #/texts/289\n",
      "#/texts/293 #/texts/294 #/texts/295 #/texts/296\n",
      "#/texts/298 #/texts/299 #/texts/300 #/texts/301\n",
      "#/texts/304 #/texts/305 #/texts/306 #/texts/307 #/texts/308 #/texts/309 #/texts/310 #/texts/311 #/texts/312 #/texts/313 #/texts/314 #/texts/315\n",
      "#/texts/319 #/texts/320 #/texts/321\n",
      "#/texts/323 #/texts/324 #/texts/325 #/texts/326 #/texts/327\n",
      "#/texts/330 #/texts/331 #/texts/332 #/texts/333 #/texts/334\n",
      "#/texts/336 #/texts/337 #/tables/0 #/texts/339 #/tables/1 #/texts/341 #/tables/2\n",
      "#/texts/343 #/texts/344 #/texts/345 #/texts/346\n",
      "#/texts/350 #/texts/351\n",
      "#/texts/353 #/texts/354 #/texts/356 #/texts/355 #/texts/357 #/texts/358 #/texts/359 #/texts/360\n",
      "#/texts/363 #/texts/364 #/texts/365\n",
      "#/texts/367\n",
      "#/texts/369\n",
      "#/texts/372 #/texts/373 #/texts/374 #/texts/375\n",
      "#/texts/386\n",
      "#/texts/388 #/texts/389 #/texts/390 #/texts/391\n",
      "#/texts/393 #/texts/394 #/tables/3 #/texts/396 #/tables/4 #/texts/398 #/tables/5\n",
      "#/texts/400\n",
      "#/texts/411\n",
      "#/texts/413 #/texts/414\n",
      "#/texts/416 #/texts/417 #/texts/418 #/tables/6 #/texts/420 #/tables/7\n",
      "#/texts/422\n",
      "#/texts/425 #/texts/426 #/texts/427\n",
      "#/texts/429\n",
      "#/texts/431 #/texts/432 #/texts/433 #/texts/434 #/texts/436 #/texts/437 #/texts/438 #/texts/439 #/texts/440 #/texts/441 #/texts/442 #/texts/443 #/texts/444 #/texts/445 #/texts/446 #/texts/447 #/texts/448 #/texts/449 #/texts/450 #/texts/451 #/texts/452 #/texts/453 #/texts/454 #/texts/455 #/texts/457\n",
      "#/texts/459\n",
      "#/texts/461 #/texts/462 #/texts/463 #/texts/464 #/texts/465 #/texts/466 #/texts/467 #/texts/468\n",
      "#/texts/474 #/tables/8\n",
      "#/texts/476\n",
      "#/texts/479 #/texts/480 #/texts/483 #/texts/484 #/texts/486\n",
      "#/texts/488\n",
      "#/texts/490 #/texts/491 #/texts/492 #/texts/493 #/texts/494 #/texts/495 #/texts/496 #/texts/497\n",
      "#/texts/509 #/texts/510 #/texts/511\n",
      "#/texts/513 #/texts/514 #/texts/515 #/texts/516 #/texts/517\n",
      "#/texts/520 #/texts/521 #/texts/522 #/texts/523\n",
      "#/texts/526\n",
      "#/texts/529 #/texts/530 #/texts/531\n",
      "#/texts/533 #/texts/534 #/texts/536\n",
      "#/texts/539 #/texts/540 #/texts/542 #/texts/541 #/texts/543 #/texts/545 #/texts/547 #/texts/549 #/texts/551 #/texts/552 #/texts/546 #/texts/548 #/texts/550\n",
      "#/texts/555 #/texts/556 #/texts/558\n",
      "#/texts/561\n",
      "#/texts/563 #/texts/564 #/texts/566 #/texts/567 #/texts/568 #/texts/569 #/texts/570 #/texts/571 #/texts/572 #/texts/573 #/texts/574 #/texts/575 #/texts/576 #/texts/577 #/texts/578 #/texts/579 #/texts/580 #/texts/581 #/texts/582 #/texts/583 #/texts/584 #/texts/585 #/texts/586 #/texts/587 #/texts/588 #/texts/589\n",
      "#/texts/590 #/texts/591\n",
      "#/texts/594\n",
      "#/texts/596 #/texts/597 #/texts/599 #/texts/600 #/texts/601 #/texts/602 #/texts/603 #/texts/604 #/texts/605 #/texts/606 #/texts/607 #/texts/608 #/texts/609 #/texts/610 #/texts/611 #/texts/612 #/texts/613 #/texts/614 #/texts/615 #/texts/616 #/texts/617 #/texts/618 #/texts/619 #/texts/620 #/texts/621 #/texts/622 #/texts/623 #/texts/624 #/texts/625 #/texts/626 #/texts/627 #/texts/628 #/texts/629 #/texts/630 #/texts/631 #/texts/632 #/texts/633\n",
      "#/texts/636 #/texts/637\n",
      "#/texts/639 #/tables/9\n",
      "#/texts/643 #/texts/644 #/texts/645 #/texts/646 #/texts/647 #/texts/648 #/texts/649 #/texts/650 #/texts/651 #/texts/652 #/texts/653 #/texts/654 #/texts/655 #/texts/656 #/texts/657 #/texts/658\n",
      "#/texts/661 #/texts/662 #/texts/663 #/texts/665 #/texts/664 #/texts/666 #/texts/667 #/texts/668 #/texts/669 #/texts/670 #/texts/671 #/texts/672 #/texts/674 #/texts/673 #/texts/675\n",
      "#/texts/678 #/texts/679 #/texts/680 #/texts/682 #/texts/681 #/texts/683 #/texts/684 #/texts/685 #/texts/686 #/texts/687 #/texts/688 #/texts/689 #/texts/690 #/texts/691 #/texts/692 #/texts/693 #/texts/694 #/texts/696 #/texts/697 #/texts/698 #/texts/699 #/texts/700 #/texts/701 #/texts/703\n",
      "#/texts/705\n",
      "#/texts/708\n",
      "#/texts/710 #/texts/711 #/texts/712\n",
      "94 text document chunks created\n"
     ]
    }
   ],
   "source": [
    "from transformers import GPT2TokenizerFast\n",
    "from docling_core.transforms.chunker.hybrid_chunker import HybridChunker\n",
    "from docling_core.types.doc.document import TableItem\n",
    "from langchain_core.documents import Document\n",
    "\n",
    "# Initialize Hugging Face GPT-2 tokenizer\n",
    "embeddings_tokenizer = GPT2TokenizerFast.from_pretrained(\"gpt2\")\n",
    "max_tokens = embeddings_tokenizer.model_max_length  # Typically 1024\n",
    "\n",
    "chunker = HybridChunker(tokenizer=embeddings_tokenizer)\n",
    "\n",
    "doc_id = 0\n",
    "texts: list[Document] = []\n",
    "\n",
    "for chunk in chunker.chunk(converted_document):\n",
    "    items = chunk.meta.doc_items\n",
    "    if len(items) == 1 and isinstance(items[0], TableItem):\n",
    "        continue  # Skip table items; process them separately later\n",
    "\n",
    "    refs = \" \".join(item.get_ref().cref for item in items)\n",
    "    \n",
    "    text = chunk.text\n",
    "    tokens = embeddings_tokenizer.encode(text, truncation=True, max_length=max_tokens)\n",
    "    text = embeddings_tokenizer.decode(tokens, skip_special_tokens=True)\n",
    "\n",
    "    document = Document(\n",
    "        page_content=text,\n",
    "        metadata={\n",
    "            \"doc_id\": (doc_id := doc_id + 1),\n",
    "            \"source\": \"IBM_COS/CSR-ACX7024-configuration-guide-v1.1.pdf\",\n",
    "            \"ref\": refs,\n",
    "        },\n",
    "    )\n",
    "    texts.append(document)\n",
    "\n",
    "print(f\"{len(texts)} text document chunks created\")"
   ]
  },
  {
   "cell_type": "markdown",
   "metadata": {},
   "source": [
    "With the documents processed, we then further process the text elements in the documents. We chunk them into appropriate sizes for the embeddings model we are using. A list of LangChain documents are created from the text chunks."
   ]
  },
  {
   "cell_type": "code",
   "execution_count": 39,
   "metadata": {
    "id": "a4233a21-6fb8-4a85-a3ae-822ba8f3c3f7"
   },
   "outputs": [
    {
     "name": "stdout",
     "output_type": "stream",
     "text": [
      "#/tables/0\n",
      "#/tables/1\n",
      "#/tables/2\n",
      "#/tables/3\n",
      "#/tables/4\n",
      "#/tables/5\n",
      "#/tables/6\n",
      "#/tables/7\n",
      "#/tables/8\n",
      "#/tables/9\n",
      "10 table documents created\n"
     ]
    }
   ],
   "source": [
    "from docling_core.types.doc.labels import DocItemLabel\n",
    "\n",
    "# Continue document IDs from previous text documents\n",
    "doc_id = len(texts)\n",
    "tables: list[Document] = []\n",
    "\n",
    "# Process tables from previously converted_document\n",
    "for table in converted_document.tables:\n",
    "    if table.label == DocItemLabel.TABLE:\n",
    "        ref = table.get_ref().cref\n",
    "        print(ref)\n",
    "\n",
    "        # ✅ Pass the full document as `doc` to avoid deprecation warning\n",
    "        text = table.export_to_markdown(doc=converted_document)\n",
    "\n",
    "        document = Document(\n",
    "            page_content=text,\n",
    "            metadata={\n",
    "                \"doc_id\": (doc_id := doc_id + 1),\n",
    "                \"source\": \"IBM_COS/document_from_cos.pdf\",\n",
    "                \"ref\": ref,\n",
    "            },\n",
    "        )\n",
    "        tables.append(document)\n",
    "\n",
    "print(f\"{len(tables)} table documents created\")"
   ]
  },
  {
   "cell_type": "code",
   "execution_count": 40,
   "metadata": {
    "id": "24e91dff-f64c-478f-b5bc-b5be030c2ffb"
   },
   "outputs": [
    {
     "name": "stdout",
     "output_type": "stream",
     "text": [
      "Table 1: Configurable PIC Alarm Conditions (Continued)\n",
      "\n",
      "| Interface/System    | Alarm Condition               | Configuration Option   |\n",
      "|---------------------|-------------------------------|------------------------|\n",
      "|                     | Line code violation           | lcv                    |\n",
      "|                     | Loss of frame                 | lof                    |\n",
      "|                     | Loss of signal                | los                    |\n",
      "|                     | Phase-locked loop out of lock | pll                    |\n",
      "|                     | Yellow alarm                  | ylw                    |\n",
      "| Ethernet            | Link has gone down            | link-down              |\n",
      "| DS1                 | Alarm indicator signal        | ais                    |\n",
      "|                     | Yellow alarm                  | ylw                    |\n",
      "| Integrated services | Hardware or software failure  | failure                |\n",
      "| Management Ethernet | Link has gone down            | link-down              |\n"
     ]
    }
   ],
   "source": [
    "print(tables[2].page_content)"
   ]
  },
  {
   "cell_type": "markdown",
   "metadata": {},
   "source": [
    "Next we process any tables in the documents. We convert the table data to markdown format for passing into the language model. A list of LangChain documents are created from the table's markdown renderings."
   ]
  },
  {
   "cell_type": "code",
   "execution_count": 41,
   "metadata": {
    "id": "4646c835-82cb-4bd0-9b30-e76315c69458"
   },
   "outputs": [],
   "source": [
    "import os\n",
    "os.environ['WATSONX_API_KEY'] = \"c5jsf7CBqlU_kPW8Hj80VnU13RX2ezGPTs6Fyg0-1s3A\"\n",
    "os.environ['WATSONX_PROJECT_ID'] = \"d3d3c03e-2dd6-4892-b7d7-139c5dc8a1d0\"\n",
    "\n",
    "API_KEY=\"c5jsf7CBqlU_kPW8Hj80VnU13RX2ezGPTs6Fyg0-1s3A\"\n",
    "URL=\"https://us-south.ml.cloud.ibm.com/\"\n",
    "PROJECT_ID=\"d3d3c03e-2dd6-4892-b7d7-139c5dc8a1d0\""
   ]
  },
  {
   "cell_type": "code",
   "execution_count": 42,
   "metadata": {
    "id": "0b6e44d5-d619-4442-8739-7fddbb54a5db"
   },
   "outputs": [
    {
     "name": "stdout",
     "output_type": "stream",
     "text": [
      "\n",
      "Generating image descriptions for 24 pictures...\n",
      "\n",
      "Processing image 1\n",
      "\n",
      "Processing image 3\n",
      "\n",
      "Processing image 4\n",
      "\n",
      "Processing image 29\n",
      "\n",
      "Processing image 35\n",
      "\n",
      "Processing image 43\n",
      "\n",
      "Processing image 50\n",
      "\n",
      "Processing image 77\n",
      "\n",
      "Processing image 81\n",
      "\n",
      "Processing image 84\n",
      "\n",
      "Processing image 102\n",
      "\n",
      "Processing image 151\n",
      "\n",
      "Processing image 207\n",
      "\n",
      "Processing image 262\n",
      "\n",
      "Processing image 272\n",
      "\n",
      "Processing image 293\n",
      "\n",
      "Processing image 298\n",
      "\n",
      "Processing image 341\n",
      "\n",
      "Processing image 358\n",
      "\n",
      "Processing image 382\n",
      "\n",
      "Processing image 387\n",
      "\n",
      "Processing image 422\n",
      "\n",
      "Processing image 438\n",
      "\n",
      "Processing image 561\n",
      "\n",
      "24 image descriptions created.\n"
     ]
    }
   ],
   "source": [
    "from PIL import Image\n",
    "from io import BytesIO\n",
    "import base64\n",
    "import requests\n",
    "from langchain.schema import Document\n",
    "\n",
    "def get_iam_access_token(api_key: str) -> str:\n",
    "    iam_url = \"https://iam.cloud.ibm.com/identity/token\"\n",
    "    response = requests.post(\n",
    "        iam_url,\n",
    "        data={\n",
    "            \"apikey\": api_key,\n",
    "            \"grant_type\": \"urn:ibm:params:oauth:grant-type:apikey\"\n",
    "        },\n",
    "        headers={\"Content-Type\": \"application/x-www-form-urlencoded\"}\n",
    "    )\n",
    "    response.raise_for_status()\n",
    "    return response.json()[\"access_token\"]\n",
    "\n",
    "\n",
    "# Set up Watsonx info\n",
    "access_token = get_iam_access_token(\"c5jsf7CBqlU_kPW8Hj80VnU13RX2ezGPTs6Fyg0-1s3A\")\n",
    "project_id = \"d3d3c03e-2dd6-4892-b7d7-139c5dc8a1d0\"\n",
    "model_id = \"meta-llama/llama-3-2-90b-vision-instruct\"\n",
    "\n",
    "# Start image processing\n",
    "doc_id = len(texts) + len(tables)\n",
    "pictures: list[Document] = []\n",
    "\n",
    "body_refs = converted_document.body.children\n",
    "print(f\"\\nGenerating image descriptions for {len(converted_document.pictures)} pictures...\")\n",
    "\n",
    "for i, ref in enumerate(body_refs):\n",
    "    if not ref.cref.startswith(\"#/pictures/\"):\n",
    "        continue\n",
    "\n",
    "    print(f\"\\nProcessing image {i + 1}\")\n",
    "\n",
    "    picture_index = int(ref.cref.split(\"/\")[-1])\n",
    "    picture = converted_document.pictures[picture_index]\n",
    "    image = picture.get_image(converted_document)\n",
    "\n",
    "    if not image:\n",
    "        print(\"Skipping: Image not found.\")\n",
    "        continue\n",
    "\n",
    "    try:\n",
    "        image.thumbnail((1024, 1024), Image.Resampling.LANCZOS)\n",
    "        if image.mode in (\"RGBA\", \"LA\"):\n",
    "            image = image.convert(\"RGB\")\n",
    "\n",
    "        buffered = BytesIO()\n",
    "        image.save(buffered, format=\"JPEG\", quality=70)\n",
    "        image_base64 = base64.b64encode(buffered.getvalue()).decode(\"utf-8\")\n",
    "    except Exception as e:\n",
    "        print(\"Failed to process image:\", e)\n",
    "        continue\n",
    "\n",
    "    # Get context text\n",
    "    above_text = below_text = \"\"\n",
    "    if i > 0 and body_refs[i - 1].cref.startswith(\"#/texts/\"):\n",
    "        idx = int(body_refs[i - 1].cref.split(\"/\")[-1])\n",
    "        above_text = converted_document.texts[idx].text.strip()\n",
    "    if i < len(body_refs) - 1 and body_refs[i + 1].cref.startswith(\"#/texts/\"):\n",
    "        idx = int(body_refs[i + 1].cref.split(\"/\")[-1])\n",
    "        below_text = converted_document.texts[idx].text.strip()\n",
    "\n",
    "    context_text = f\"Text above the image:\\n{above_text}\\n\\nText below the image:\\n{below_text}\"\n",
    "\n",
    "    # Watsonx API payload\n",
    "    body = {\n",
    "        \"messages\": [\n",
    "            {\n",
    "                \"role\": \"system\",\n",
    "                \"content\": (\n",
    "                    \"You always respond strictly in JSON format matching this schema:\\n\\n\"\n",
    "                    \"{\\n\"\n",
    "                    \"  \\\"images\\\": [\\n\"\n",
    "                    \"    {\\n\"\n",
    "                    \"      \\\"image_id\\\": \\\"\\\",\\n\"\n",
    "                    \"      \\\"title\\\": \\\"\\\",\\n\"\n",
    "                    \"      \\\"type\\\": \\\"\\\",\\n\"\n",
    "                    \"      \\\"page_reference\\\": \\\"\\\",\\n\"\n",
    "                    \"      \\\"revision_or_version\\\": \\\"\\\",\\n\"\n",
    "                    \"      \\\"author_or_source\\\": \\\"\\\",\\n\"\n",
    "                    \"      \\\"creation_or_issue_date\\\": \\\"\\\",\\n\"\n",
    "                    \"      \\\"description\\\": \\\"\\\",\\n\"\n",
    "                    \"      \\\"diagram_elements\\\": [\\n\"\n",
    "                    \"        {\\n\"\n",
    "                    \"          \\\"element_name\\\": \\\"\\\",\\n\"\n",
    "                    \"          \\\"element_type\\\": \\\"\\\",\\n\"\n",
    "                    \"          \\\"properties\\\": {\\n\"\n",
    "                    \"            \\\"dimensions\\\": \\\"\\\",\\n\"\n",
    "                    \"            \\\"power_specs\\\": \\\"\\\",\\n\"\n",
    "                    \"            \\\"ports_or_interfaces\\\": [],\\n\"\n",
    "                    \"            \\\"ip_addresses\\\": [],\\n\"\n",
    "                    \"            \\\"protocols\\\": [],\\n\"\n",
    "                    \"            \\\"vlan_tags\\\": [],\\n\"\n",
    "                    \"            \\\"roles\\\": [],\\n\"\n",
    "                    \"            \\\"other_details\\\": \\\"\\\"\\n\"\n",
    "                    \"          }\\n\"\n",
    "                    \"        }\\n\"\n",
    "                    \"      ],\\n\"\n",
    "                    \"      \\\"connections_or_relationships\\\": [\\n\"\n",
    "                    \"        {\\n\"\n",
    "                    \"          \\\"from_element\\\": \\\"\\\",\\n\"\n",
    "                    \"          \\\"to_element\\\": \\\"\\\",\\n\"\n",
    "                    \"          \\\"link_type\\\": \\\"\\\",\\n\"\n",
    "                    \"          \\\"bandwidth_or_speed\\\": \\\"\\\",\\n\"\n",
    "                    \"          \\\"notes\\\": \\\"\\\"\\n\"\n",
    "                    \"        }\\n\"\n",
    "                    \"      ],\\n\"\n",
    "                    \"      \\\"purpose_or_scenario\\\": \\\"\\\",\\n\"\n",
    "                    \"      \\\"associated_vr_or_network_context\\\": [],\\n\"\n",
    "                    \"      \\\"relevant_configuration_details\\\": [],\\n\"\n",
    "                    \"      \\\"notes_and_annotations\\\": \\\"\\\"\\n\"\n",
    "                    \"    }\\n\"\n",
    "                    \"  ]\\n\"\n",
    "                    \"}\\n\\n\"\n",
    "                    \"Only return valid JSON output that strictly follows this structure. Omit all explanations or extra text.\"\n",
    "                )\n",
    "            },\n",
    "            {\n",
    "                \"role\": \"user\",\n",
    "                \"content\": [\n",
    "                    {\"type\": \"text\", \"text\": f\"Describe the image below using the surrounding context.\\n\\n{context_text}\"},\n",
    "                    {\"type\": \"image_url\", \"image_url\": {\"url\": f\"data:image/jpeg;base64,{image_base64}\"}}\n",
    "                ]\n",
    "            }\n",
    "        ],\n",
    "        \"project_id\": project_id,\n",
    "        \"model_id\": model_id,\n",
    "        \"max_tokens\": 2500,\n",
    "        \"temperature\": 0.7,\n",
    "        \"top_p\": 1\n",
    "    }\n",
    "\n",
    "    headers = {\n",
    "        \"Accept\": \"application/json\",\n",
    "        \"Content-Type\": \"application/json\",\n",
    "        \"Authorization\": f\"Bearer {access_token}\"\n",
    "    }\n",
    "\n",
    "    url = \"https://us-south.ml.cloud.ibm.com/ml/v1/text/chat?version=2023-05-29\"\n",
    "\n",
    "    try:\n",
    "        response = requests.post(url, headers=headers, json=body, timeout=300)\n",
    "        response.raise_for_status()\n",
    "        data = response.json()\n",
    "        generated_text = data.get(\"choices\", [{}])[0].get(\"message\", {}).get(\"content\", \"\")\n",
    "    except Exception as e:\n",
    "        print(f\"Error during request or parsing: {e}\")\n",
    "        generated_text = \"[Image description unavailable due to error.]\"\n",
    "\n",
    "    doc_id += 1\n",
    "    document = Document(\n",
    "        page_content=generated_text,\n",
    "        metadata={\n",
    "            \"doc_id\": doc_id,\n",
    "            \"source\": \"IBM_COS/document_from_cos.pdf\",\n",
    "            \"ref\": ref.cref,\n",
    "            \"type\": \"picture\",\n",
    "            \"image_base64\": image_base64\n",
    "        },\n",
    "    )\n",
    "    pictures.append(document)\n",
    "\n",
    "print(f\"\\n{len(pictures)} image descriptions created.\")"
   ]
  },
  {
   "cell_type": "code",
   "execution_count": 43,
   "metadata": {},
   "outputs": [
    {
     "name": "stdout",
     "output_type": "stream",
     "text": [
      "✅ Markdown saved to: /Users/denizaskin/telus-incident-mgmt-copilot/notebooks/wxO_api/converted_document.md\n"
     ]
    }
   ],
   "source": [
    "# -----------------------------------------------------------\n",
    "# Build a Markdown file that preserves original PDF ordering\n",
    "# -----------------------------------------------------------\n",
    "\n",
    "import os\n",
    "from pathlib import Path\n",
    "\n",
    "def export_pdf_to_markdown(\n",
    "    converted_document,\n",
    "    pictures_docs,\n",
    "    output_md_path: str | os.PathLike = \"converted_document_CLI.md\",\n",
    "):\n",
    "    \"\"\"\n",
    "    Create a Markdown file that interleaves\n",
    "      • plain text blocks\n",
    "      • table markdown\n",
    "      • inline image embeds + their JSON descriptions\n",
    "    in **exactly** the order the objects appear in the PDF.\n",
    "    Images are embedded as base‑64 so the .md is self‑contained.\n",
    "    \"\"\"\n",
    "    # Quick look‑up for pictures by their cref (stored earlier in metadata[\"ref\"])\n",
    "    picture_lookup = {doc.metadata[\"ref\"]: doc for doc in pictures_docs}\n",
    "\n",
    "    body_refs = converted_document.body.children\n",
    "    out_path = Path(output_md_path).expanduser().resolve()\n",
    "\n",
    "    with out_path.open(\"w\", encoding=\"utf-8\") as md:\n",
    "        for ref in body_refs:\n",
    "            cref = ref.cref\n",
    "\n",
    "            # ------------ TEXT ------------\n",
    "            if cref.startswith(\"#/texts/\"):\n",
    "                idx = int(cref.split(\"/\")[-1])\n",
    "                md.write(converted_document.texts[idx].text.strip() + \"\\n\\n\")\n",
    "\n",
    "            # ------------ TABLE ------------\n",
    "            elif cref.startswith(\"#/tables/\"):\n",
    "                idx = int(cref.split(\"/\")[-1])\n",
    "                table_md = converted_document.tables[idx].export_to_markdown(\n",
    "                    doc=converted_document\n",
    "                )\n",
    "                md.write(table_md.strip() + \"\\n\\n\")\n",
    "\n",
    "            # ------------ PICTURE ------------\n",
    "            elif cref.startswith(\"#/pictures/\"):\n",
    "                pic_doc = picture_lookup.get(cref)\n",
    "                if not pic_doc:\n",
    "                    continue  # safety check\n",
    "\n",
    "                # Inline the picture (base‑64)\n",
    "                img_b64 = pic_doc.metadata.get(\"image_base64\", \"\")\n",
    "                if img_b64:\n",
    "                    md.write(f\"![image](\"\n",
    "                             f\"data:image/jpeg;base64,{img_b64}\"\n",
    "                             f\")\\n\\n\")\n",
    "\n",
    "                # Followed by the JSON description\n",
    "                md.write(\"```json\\n\")\n",
    "                md.write(pic_doc.page_content.strip() + \"\\n\")\n",
    "                md.write(\"```\\n\\n\")\n",
    "\n",
    "    print(f\"✅ Markdown saved to: {out_path}\")\n",
    "\n",
    "# -----------------------------------------------------------------\n",
    "# Run it – generates converted_document.md alongside the notebook\n",
    "# -----------------------------------------------------------------\n",
    "export_pdf_to_markdown(converted_document, pictures, \"converted_document.md\")"
   ]
  },
  {
   "cell_type": "markdown",
   "metadata": {},
   "source": [
    "Finally we process any images in the documents. Here we use the vision language model to understand the content of an image. In this example, we are interested in any textual information in the image. You might want to experiment with different prompt text to see how it might improve the results.\n",
    "\n",
    "NOTE: Processing the images can take a very long time depending upon the number of images and the service running the vision language model."
   ]
  },
  {
   "cell_type": "markdown",
   "metadata": {},
   "source": [
    "We can then display the LangChain documents created from the input documents."
   ]
  },
  {
   "cell_type": "markdown",
   "metadata": {
    "collapsed": false,
    "id": "-Bjz1IR3_JRK",
    "jupyter": {
     "outputs_hidden": false
    },
    "pycharm": {
     "name": "#%% md\n"
    }
   },
   "source": [
    "## Populate the vector database"
   ]
  },
  {
   "cell_type": "markdown",
   "metadata": {},
   "source": [
    "Using the embedding model, we load the documents from the text chunks and generated image captioning into a vector database. Creating this vector database allows us to easily conduct a semantic similarity search across our documents.\n",
    "\n",
    "NOTE: Population of the vector database can take some time depending on your embedding model and service."
   ]
  },
  {
   "cell_type": "markdown",
   "metadata": {},
   "source": [
    "### Choose your vector database"
   ]
  },
  {
   "cell_type": "markdown",
   "metadata": {},
   "source": [
    "Specify the database to use for storing and retrieving embedding vectors.\n",
    "\n",
    "To connect to a vector database other than Milvus, replace this code cell with one from [this Vector Store recipe](https://github.com/ibm-granite-community/granite-kitchen/blob/main/recipes/Components/Langchain_Vector_Stores.ipynb)."
   ]
  },
  {
   "cell_type": "code",
   "execution_count": 20,
   "metadata": {},
   "outputs": [
    {
     "name": "stdout",
     "output_type": "stream",
     "text": [
      "Document ID: 1\n",
      "Source: IBM_COS/CSR-ACX7024-configuration-guide-v1.1.pdf\n",
      "Content:\n",
      "Title:\n",
      "================================================================================\n",
      "Document ID: 2\n",
      "Source: IBM_COS/CSR-ACX7024-configuration-guide-v1.1.pdf\n",
      "Content:\n",
      "Abstract: This  document  presents  the  technical  description  of  software configuration  on  Juniper  ACX7024  CSR  and  to  be  deployed  on  TELUS Mobility RAN IP backhaul project.\n",
      "Author\n",
      "Ricky Ip\n",
      "Last Revised Date\n",
      "January 11, 2024\n",
      "Issue\n",
      "1.1\n",
      "The  information  herein  is  TELUS  Communications  Inc.  confidential  and  proprietary.    Any review, distribution or other use of this information outside of one's scope of employment with TELUS is strictly prohibited.  TELUS Communications Inc. will avail itself of all legal rights and remedies in protecting the confidentiality, property rights, and use of the information.  If you are not a TELUS  employee  and  have  this  information  please  call 1-877-333-8888 immediately.\n",
      "================================================================================\n",
      "Document ID: 3\n",
      "Source: IBM_COS/CSR-ACX7024-configuration-guide-v1.1.pdf\n",
      "Content:\n",
      "1.0, Issue Date = October 31, 2023. 1.0, Notes = Initial issue for review. 1.1, Issue Date = December 7, 2023. 1.1, Notes = Update syslog facility override parameters Update tacacs timeout to 10 sec DNS setup as optional (currently not in use)\n",
      "The most current version of this document can be found here:\n",
      "https://drive.google.com/drive/folders/1Q1Quzq_OE9PkCQkcZRtlztLhYjv_b3I4\n",
      "Filename: CSR-ACX7024-configuration-v(latest version)\n",
      "Data-IP Master Sparing Guidelines (TELUS Internal)\n",
      "https://sharepoint.tsl.telus.com/sites/tsbse/Operational%20Docs/Forms/AllItems.aspx?id=%2Fsites%2Fts bse%2FOperational%20Docs%2FSparing%2FData%2DIP%5FNetwork%5FSparing\n",
      "Filename:  UC_Juniper CSR ACX7024 Sparing.xls\n",
      "================================================================================\n",
      "Document ID: 4\n",
      "Source: IBM_COS/CSR-ACX7024-configuration-guide-v1.1.pdf\n",
      "Content:\n",
      "Authorized & Approved, Name = Wayne Wong. Authorized & Approved, Signature = . Authorized & Approved, Function/Group = MPLS DATA/IP. Authorized & Approved, Date = \n",
      "Group Reviewers, Function/Group = MPLS DATA/IP. Group Reviewers, Date = \n",
      "================================================================================\n",
      "Document ID: 5\n",
      "Source: IBM_COS/CSR-ACX7024-configuration-guide-v1.1.pdf\n",
      "Content:\n",
      "Distribution\n",
      "Function/Group\n",
      "Managers\n",
      "TELUS Mobility, OSS, P&E, LD\n",
      "================================================================================\n",
      "Document ID: 6\n",
      "Source: IBM_COS/document_from_cos.pdf\n",
      "Content:\n",
      "|   Issue # | Issue Date       | Notes                                                                                                                   |\n",
      "|-----------|------------------|-------------------------------------------------------------------------------------------------------------------------|\n",
      "|       1   | October 31, 2023 | Initial issue for review                                                                                                |\n",
      "|       1.1 | December 7, 2023 | Update syslog facility override parameters Update tacacs timeout to 10 sec DNS setup as optional (currently not in use) |\n",
      "================================================================================\n",
      "Document ID: 7\n",
      "Source: IBM_COS/document_from_cos.pdf\n",
      "Content:\n",
      "| Authority             | Name       | Signature   | Function/Group   | Date   |\n",
      "|-----------------------|------------|-------------|------------------|--------|\n",
      "| Authorized & Approved | Wayne Wong |             | MPLS DATA/IP     |        |\n",
      "================================================================================\n",
      "Document ID: 8\n",
      "Source: IBM_COS/document_from_cos.pdf\n",
      "Content:\n",
      "| Reviewers       | Function/Group   | Date   |\n",
      "|-----------------|------------------|--------|\n",
      "| Group Reviewers | MPLS DATA/IP     |        |\n",
      "================================================================================\n",
      "Document ID: 9\n",
      "Source: IBM_COS/document_from_cos.pdf\n",
      "Description:\n",
      "{\n",
      "  \"images\": [\n",
      "    {\n",
      "      \"image_id\": \"\",\n",
      "      \"title\": \"TELUS\",\n",
      "      \"type\": \"logo\",\n",
      "      \"page_reference\": \"\",\n",
      "      \"revision_or_version\": \"\",\n",
      "      \"author_or_source\": \"\",\n",
      "      \"creation_or_issue_date\": \"\",\n",
      "      \"description\": \"The image features the TELUS logo, which includes a stylized green letter 't' in cursive, followed by the word 'TELUS' in purple letters.\",\n",
      "      \"diagram_elements\": [\n",
      "        {\n",
      "          \"element_name\": \"TELUS logo\",\n",
      "          \"element_type\": \"logo\",\n",
      "          \"properties\": {\n",
      "            \"dimensions\": \"\",\n",
      "            \"power_specs\": \"\",\n",
      "            \"ports_or_interfaces\": [],\n",
      "            \"ip_addresses\": [],\n",
      "            \"protocols\": [],\n",
      "            \"vlan_tags\": [],\n",
      "            \"roles\": [],\n",
      "            \"other_details\": \"\"\n",
      "          }\n",
      "        }\n",
      "      ],\n",
      "      \"connections_or_relationships\": [],\n",
      "      \"purpose_or_scenario\": \"The image is likely used to represent the TELUS brand.\",\n",
      "      \"associated_vr_or_network_context\": [],\n",
      "      \"relevant_configuration_details\": [],\n",
      "      \"notes_and_annotations\": \"\"\n",
      "    }\n",
      "  ]\n",
      "}\n"
     ]
    },
    {
     "data": {
      "image/jpeg": "[encoded data removed]",
      "image/png": "[encoded data removed]",
      "text/plain": [
       "<PIL.JpegImagePlugin.JpegImageFile image mode=RGB size=238x47>"
      ]
     },
     "metadata": {},
     "output_type": "display_data"
    },
    {
     "name": "stdout",
     "output_type": "stream",
     "text": [
      "================================================================================\n"
     ]
    }
   ],
   "source": [
    "import base64\n",
    "from io import BytesIO\n",
    "from PIL import Image\n",
    "from langchain.schema import Document  # or langchain_core.documents.Document\n",
    "import itertools\n",
    "\n",
    "# Display text + table documents\n",
    "for document in itertools.chain(texts, tables):\n",
    "    if not isinstance(document, Document):\n",
    "        continue\n",
    "\n",
    "    print(f\"Document ID: {document.metadata.get('doc_id')}\")\n",
    "    print(f\"Source: {document.metadata.get('source')}\")\n",
    "    print(f\"Content:\\n{document.page_content}\")\n",
    "    print(\"=\" * 80)\n",
    "\n",
    "# Display picture documents (image from base64)\n",
    "for document in pictures:\n",
    "    if not isinstance(document, Document):\n",
    "        continue\n",
    "\n",
    "    print(f\"Document ID: {document.metadata.get('doc_id')}\")\n",
    "    print(f\"Source: {document.metadata.get('source')}\")\n",
    "    print(f\"Description:\\n{document.page_content}\")\n",
    "\n",
    "    image_base64 = document.metadata.get(\"image_base64\")\n",
    "\n",
    "    if image_base64:\n",
    "        try:\n",
    "            image_data = base64.b64decode(image_base64)\n",
    "            image = Image.open(BytesIO(image_data))\n",
    "            display(image)  # or image.show() if not in a notebook\n",
    "        except Exception as e:\n",
    "            print(\"Failed to decode/display image:\", e)\n",
    "    else:\n",
    "        print(\"No image found in metadata.\")\n",
    "\n",
    "    print(\"=\" * 80)\n"
   ]
  },
  {
   "cell_type": "code",
   "execution_count": 21,
   "metadata": {},
   "outputs": [
    {
     "name": "stderr",
     "output_type": "stream",
     "text": [
      "INFO:sentence_transformers.SentenceTransformer:Use pytorch device_name: mps\n",
      "INFO:sentence_transformers.SentenceTransformer:Load pretrained SentenceTransformer: sentence-transformers/all-MiniLM-L6-v2\n"
     ]
    },
    {
     "name": "stdout",
     "output_type": "stream",
     "text": [
      "The vector database will be saved to /var/folders/1t/7cjrsy2949n9nwlmm_7d_c6c0000gn/T/vectorstore_hykqs5l_.db\n"
     ]
    },
    {
     "name": "stderr",
     "output_type": "stream",
     "text": [
      "huggingface/tokenizers: The current process just got forked, after parallelism has already been used. Disabling parallelism to avoid deadlocks...\n",
      "To disable this warning, you can either:\n",
      "\t- Avoid using `tokenizers` before the fork if possible\n",
      "\t- Explicitly set the environment variable TOKENIZERS_PARALLELISM=(true | false)\n"
     ]
    }
   ],
   "source": [
    "import tempfile\n",
    "from langchain.embeddings import HuggingFaceEmbeddings\n",
    "from langchain_core.vectorstores import VectorStore\n",
    "from langchain_milvus import Milvus\n",
    "\n",
    "# Use lightweight embedding model\n",
    "embeddings_model = HuggingFaceEmbeddings(model_name=\"sentence-transformers/all-MiniLM-L6-v2\")\n",
    "\n",
    "# Create temporary vector DB file\n",
    "db_file = tempfile.NamedTemporaryFile(prefix=\"vectorstore_\", suffix=\".db\", delete=False).name\n",
    "print(f\"The vector database will be saved to {db_file}\")\n",
    "\n",
    "# Initialize Milvus vector store\n",
    "vector_db: VectorStore = Milvus(\n",
    "    embedding_function=embeddings_model,\n",
    "    connection_args={\"uri\": db_file},\n",
    "    auto_id=True,\n",
    "    enable_dynamic_field=True,\n",
    "    index_params={\"index_type\": \"AUTOINDEX\"},\n",
    ")\n"
   ]
  },
  {
   "cell_type": "code",
   "execution_count": null,
   "metadata": {
    "id": "a5a8d624-67d9-491b-b0de-d3847aba3352"
   },
   "outputs": [
    {
     "name": "stderr",
     "output_type": "stream",
     "text": [
      "/Users/denizaskin/telus-incident-mgmt-copilot/.venv/lib/python3.12/site-packages/elasticsearch/_sync/client/__init__.py:311: SecurityWarning: Connecting to 'https://abaf66f0-1ef1-40ce-a820-5acccb045df4.d7deeff0d58745aba57fa5c84685d5b4.databases.appdomain.cloud:32220' using TLS with verify_certs=False is insecure\n",
      "  _transport = transport_class(\n",
      "INFO:sentence_transformers.SentenceTransformer:Use pytorch device_name: mps\n",
      "INFO:sentence_transformers.SentenceTransformer:Load pretrained SentenceTransformer: mixedbread-ai/mxbai-embed-large-v1\n",
      "INFO:sentence_transformers.SentenceTransformer:2 prompts are loaded, with the keys: ['query', 'passage']\n"
     ]
    },
    {
     "name": "stdout",
     "output_type": "stream",
     "text": [
      "Successfully connected to Elasticsearch with SSL verification disabled.\n"
     ]
    },
    {
     "name": "stderr",
     "output_type": "stream",
     "text": [
      "/var/folders/1t/7cjrsy2949n9nwlmm_7d_c6c0000gn/T/ipykernel_56229/1435231236.py:20: LangChainPendingDeprecationWarning: The class `ElasticsearchStore` will be deprecated in a future version. Use :class:`~Use class in langchain-elasticsearch package` instead.\n",
      "  vector_db = ElasticsearchStore(\n"
     ]
    }
   ],
   "source": [
    "# Uncomment for ElasticSearch\n",
    "# from langchain.embeddings import HuggingFaceEmbeddings\n",
    "# from langchain_community.vectorstores import ElasticsearchStore\n",
    "# from elasticsearch import Elasticsearch\n",
    "# import urllib3\n",
    "\n",
    "# # Disable SSL warnings and verification\n",
    "# urllib3.disable_warnings()\n",
    "\n",
    "# # Create Elasticsearch client with verification disabled\n",
    "# es_client = Elasticsearch(\n",
    "#     \"https://abaf66f0-1ef1-40ce-a820-5acccb045df4.d7deeff0d58745aba57fa5c84685d5b4.databases.appdomain.cloud:32220\",\n",
    "#     basic_auth=(\"ibm_cloud_122bb980_f9d4_4f16_b969_962981afc29a\", \"IeQpyaxYSY6MjA96eo4g0FYUq4p7YZlS\"),\n",
    "#     verify_certs=False\n",
    "# )\n",
    "\n",
    "# # Embedding model\n",
    "# embeddings_model = HuggingFaceEmbeddings(model_name=\"mixedbread-ai/mxbai-embed-large-v1\")\n",
    "\n",
    "# # Initialize ElasticsearchStore with es_connection\n",
    "# vector_db = ElasticsearchStore(\n",
    "#     es_connection=es_client,  # Use this, not es_url\n",
    "#     index_name=\"telus-index-csr-acx7024-configuration-guide-v1.1-mxbai-embed-large-v1\",\n",
    "#     embedding=embeddings_model,\n",
    "# )\n",
    "\n",
    "# print(\"Successfully connected to Elasticsearch with SSL verification disabled.\")\n"
   ]
  },
  {
   "cell_type": "markdown",
   "metadata": {},
   "source": [
    "We now add all the LangChain documents for the text, tables and image descriptions to the vector database."
   ]
  },
  {
   "cell_type": "code",
   "execution_count": 22,
   "metadata": {
    "id": "c2d682b0-5181-4966-9e2d-e1fc636822ce"
   },
   "outputs": [
    {
     "name": "stderr",
     "output_type": "stream",
     "text": [
      "huggingface/tokenizers: The current process just got forked, after parallelism has already been used. Disabling parallelism to avoid deadlocks...\n",
      "To disable this warning, you can either:\n",
      "\t- Avoid using `tokenizers` before the fork if possible\n",
      "\t- Explicitly set the environment variable TOKENIZERS_PARALLELISM=(true | false)\n"
     ]
    },
    {
     "name": "stdout",
     "output_type": "stream",
     "text": [
      "Requirement already satisfied: pytesseract in /Users/denizaskin/telus-incident-mgmt-copilot/.venv/lib/python3.12/site-packages (0.3.13)\n",
      "Requirement already satisfied: packaging>=21.3 in /Users/denizaskin/telus-incident-mgmt-copilot/.venv/lib/python3.12/site-packages (from pytesseract) (24.2)\n",
      "Requirement already satisfied: Pillow>=8.0.0 in /Users/denizaskin/telus-incident-mgmt-copilot/.venv/lib/python3.12/site-packages (from pytesseract) (11.2.1)\n"
     ]
    }
   ],
   "source": [
    "!pip install pytesseract\n"
   ]
  },
  {
   "cell_type": "code",
   "execution_count": 23,
   "metadata": {
    "id": "YSbVb6R4_JRK"
   },
   "outputs": [
    {
     "name": "stdout",
     "output_type": "stream",
     "text": [
      "9 documents added to the vector database\n"
     ]
    }
   ],
   "source": [
    "from langchain.schema import Document\n",
    "import itertools\n",
    "\n",
    "# Combine and filter valid Document instances\n",
    "documents = [\n",
    "    doc for doc in itertools.chain(texts, tables, pictures)\n",
    "    if isinstance(doc, Document)\n",
    "]\n",
    "\n",
    "# Add to vector DB\n",
    "ids = vector_db.add_documents(documents)\n",
    "print(f\"{len(ids)} documents added to the vector database\")\n"
   ]
  },
  {
   "cell_type": "markdown",
   "metadata": {
    "id": "Wq50gMAO_JRK"
   },
   "source": [
    "## Step 5: RAG with Granite"
   ]
  },
  {
   "cell_type": "markdown",
   "metadata": {
    "id": "uZOYJW0D_JRL"
   },
   "source": [
    "Now that we have successfully converted our documents and vectorized them, we can set up out RAG pipeline."
   ]
  },
  {
   "cell_type": "markdown",
   "metadata": {
    "id": "UC_KSxFk_JRL"
   },
   "source": [
    "### Retrieve relevant chunks\n",
    "\n"
   ]
  },
  {
   "cell_type": "markdown",
   "metadata": {
    "id": "bf8T8eZk_JRL"
   },
   "source": [
    "Here we test the vector database by searching for chunks with relevant information to our query in the vector space. We display the documents associated with the retrieved image description.\n",
    "\n",
    "Feel free to try different queries."
   ]
  },
  {
   "cell_type": "code",
   "execution_count": 24,
   "metadata": {
    "id": "bd15f214-001d-4370-8ae1-6a51eb2bbdc1"
   },
   "outputs": [
    {
     "name": "stdout",
     "output_type": "stream",
     "text": [
      "\n",
      " Document 1\n",
      "Content:\n",
      "Distribution\n",
      "Function/Group\n",
      "Managers\n",
      "TELUS Mobility, OSS, P&E, LD\n",
      "No embedded image found in metadata.\n",
      "================================================================================\n",
      "\n",
      " Document 2\n",
      "Content:\n",
      "Abstract: This  document  presents  the  technical  description  of  software configuration  on  Juniper  ACX7024  CSR  and  to  be  deployed  on  TELUS Mobility RAN IP backhaul project.\n",
      "Author\n",
      "Ricky Ip\n",
      "Last Revised Date\n",
      "January 11, 2024\n",
      "Issue\n",
      "1.1\n",
      "The  information  herein  is  TELUS  Communications  Inc.  confidential  and  proprietary.    Any review, distribution or other use of this information outside of one's scope of employment with TELUS is strictly prohibited.  TELUS Communications Inc. will avail itself of all legal rights and remedies in protecting the confidentiality, property rights, and use of the information.  If you are not a TELUS  employee  and  have  this  information  please  call 1-877-333-8888 immediately.\n",
      "No embedded image found in metadata.\n",
      "================================================================================\n",
      "\n",
      " Document 3\n",
      "Content:\n",
      "1.0, Issue Date = October 31, 2023. 1.0, Notes = Initial issue for review. 1.1, Issue Date = December 7, 2023. 1.1, Notes = Update syslog facility override parameters Update tacacs timeout to 10 sec DNS setup as optional (currently not in use)\n",
      "The most current version of this document can be found here:\n",
      "https://drive.google.com/drive/folders/1Q1Quzq_OE9PkCQkcZRtlztLhYjv_b3I4\n",
      "Filename: CSR-ACX7024-configuration-v(latest version)\n",
      "Data-IP Master Sparing Guidelines (TELUS Internal)\n",
      "https://sharepoint.tsl.telus.com/sites/tsbse/Operational%20Docs/Forms/AllItems.aspx?id=%2Fsites%2Fts bse%2FOperational%20Docs%2FSparing%2FData%2DIP%5FNetwork%5FSparing\n",
      "Filename:  UC_Juniper CSR ACX7024 Sparing.xls\n",
      "No embedded image found in metadata.\n",
      "================================================================================\n",
      "\n",
      " Document 4\n",
      "Content:\n",
      "| Authority             | Name       | Signature   | Function/Group   | Date   |\n",
      "|-----------------------|------------|-------------|------------------|--------|\n",
      "| Authorized & Approved | Wayne Wong |             | MPLS DATA/IP     |        |\n",
      "No embedded image found in metadata.\n",
      "================================================================================\n"
     ]
    }
   ],
   "source": [
    "import base64\n",
    "from io import BytesIO\n",
    "from PIL import Image\n",
    "\n",
    "query = \"Give me the 'under UMTS/LTE combined Legacy' scenario\"\n",
    "results = vector_db.as_retriever().invoke(query)\n",
    "\n",
    "for i, document in enumerate(results):\n",
    "    print(f\"\\n Document {i + 1}\")\n",
    "    print(f\"Content:\\n{document.page_content}\")\n",
    "    #print(f\"Metadata: {document.metadata}\")\n",
    "\n",
    "    image_base64 = document.metadata.get(\"image_base64\")\n",
    "\n",
    "    if image_base64:\n",
    "        try:\n",
    "            image_data = base64.b64decode(image_base64)\n",
    "            image = Image.open(BytesIO(image_data))\n",
    "            print(\"Displaying embedded image...\")\n",
    "            display(image)  # Use image.show() if you're not in a notebook\n",
    "        except Exception as e:\n",
    "            print(\"Failed to decode/display image:\", e)\n",
    "    else:\n",
    "        print(\"No embedded image found in metadata.\")\n",
    "\n",
    "    print(\"=\" * 80)\n"
   ]
  },
  {
   "cell_type": "code",
   "execution_count": 25,
   "metadata": {
    "id": "pMtTSHhQ_JRL"
   },
   "outputs": [
    {
     "name": "stdout",
     "output_type": "stream",
     "text": [
      "\n",
      "Document 1\n",
      "Content:\n",
      "{\n",
      "  \"images\": [\n",
      "    {\n",
      "      \"image_id\": \"\",\n",
      "      \"title\": \"TELUS\",\n",
      "      \"type\": \"logo\",\n",
      "      \"page_reference\": \"\",\n",
      "      \"revision_or_version\": \"\",\n",
      "      \"author_or_source\": \"\",\n",
      "      \"creation_or_issue_date\": \"\",\n",
      "      \"description\": \"The image features the TELUS logo, which includes a stylized green letter 't' in cursive, followed by the word 'TELUS' in purple letters.\",\n",
      "      \"diagram_elements\": [\n",
      "        {\n",
      "          \"element_name\": \"TELUS logo\",\n",
      "          \"element_type\": \"logo\",\n",
      "          \"properties\": {\n",
      "            \"dimensions\": \"\",\n",
      "            \"power_specs\": \"\",\n",
      "            \"ports_or_interfaces\": [],\n",
      "            \"ip_addresses\": [],\n",
      "            \"protocols\": [],\n",
      "            \"vlan_tags\": [],\n",
      "            \"roles\": [],\n",
      "            \"other_details\": \"\"\n",
      "          }\n",
      "        }\n",
      "      ],\n",
      "      \"connections_or_relationships\": [],\n",
      "      \"purpose_or_scenario\": \"The image is likely used to represent the TELUS brand.\",\n",
      "      \"associated_vr_or_network_context\": [],\n",
      "      \"relevant_configuration_details\": [],\n",
      "      \"notes_and_annotations\": \"\"\n",
      "    }\n",
      "  ]\n",
      "}\n",
      "Displaying embedded image...\n"
     ]
    },
    {
     "data": {
      "image/jpeg": "[encoded data removed]",
      "image/png": "[encoded data removed]",
      "text/plain": [
       "<PIL.JpegImagePlugin.JpegImageFile image mode=RGB size=238x47>"
      ]
     },
     "metadata": {},
     "output_type": "display_data"
    },
    {
     "name": "stdout",
     "output_type": "stream",
     "text": [
      "================================================================================\n",
      "\n",
      "Document 2\n",
      "Content:\n",
      "Abstract: This  document  presents  the  technical  description  of  software configuration  on  Juniper  ACX7024  CSR  and  to  be  deployed  on  TELUS Mobility RAN IP backhaul project.\n",
      "Author\n",
      "Ricky Ip\n",
      "Last Revised Date\n",
      "January 11, 2024\n",
      "Issue\n",
      "1.1\n",
      "The  information  herein  is  TELUS  Communications  Inc.  confidential  and  proprietary.    Any review, distribution or other use of this information outside of one's scope of employment with TELUS is strictly prohibited.  TELUS Communications Inc. will avail itself of all legal rights and remedies in protecting the confidentiality, property rights, and use of the information.  If you are not a TELUS  employee  and  have  this  information  please  call 1-877-333-8888 immediately.\n",
      "No embedded image found in metadata.\n",
      "================================================================================\n",
      "\n",
      "Document 3\n",
      "Content:\n",
      "| Reviewers       | Function/Group   | Date   |\n",
      "|-----------------|------------------|--------|\n",
      "| Group Reviewers | MPLS DATA/IP     |        |\n",
      "No embedded image found in metadata.\n",
      "================================================================================\n",
      "\n",
      "Document 4\n",
      "Content:\n",
      "1.0, Issue Date = October 31, 2023. 1.0, Notes = Initial issue for review. 1.1, Issue Date = December 7, 2023. 1.1, Notes = Update syslog facility override parameters Update tacacs timeout to 10 sec DNS setup as optional (currently not in use)\n",
      "The most current version of this document can be found here:\n",
      "https://drive.google.com/drive/folders/1Q1Quzq_OE9PkCQkcZRtlztLhYjv_b3I4\n",
      "Filename: CSR-ACX7024-configuration-v(latest version)\n",
      "Data-IP Master Sparing Guidelines (TELUS Internal)\n",
      "https://sharepoint.tsl.telus.com/sites/tsbse/Operational%20Docs/Forms/AllItems.aspx?id=%2Fsites%2Fts bse%2FOperational%20Docs%2FSparing%2FData%2DIP%5FNetwork%5FSparing\n",
      "Filename:  UC_Juniper CSR ACX7024 Sparing.xls\n",
      "No embedded image found in metadata.\n",
      "================================================================================\n"
     ]
    }
   ],
   "source": [
    "query = \"CSR VR (VRF) instances design diagram\"\n",
    "i = 0\n",
    "\n",
    "results = vector_db.as_retriever().invoke(query)\n",
    "\n",
    "for i, document in enumerate(results):\n",
    "    print(f\"\\nDocument {i + 1}\")\n",
    "    print(f\"Content:\\n{document.page_content}\")\n",
    "    #print(f\"Metadata: {document.metadata}\")\n",
    "\n",
    "    image_base64 = document.metadata.get(\"image_base64\")\n",
    "\n",
    "    if image_base64:\n",
    "        try:\n",
    "            image_data = base64.b64decode(image_base64)\n",
    "            image = Image.open(BytesIO(image_data))\n",
    "            print(\"Displaying embedded image...\")\n",
    "            display(image)  # Use image.show() if you're not in a notebook\n",
    "        except Exception as e:\n",
    "            print(\"Failed to decode/display image:\", e)\n",
    "    else:\n",
    "        print(\"No embedded image found in metadata.\")\n",
    "\n",
    "    print(\"=\" * 80)\n"
   ]
  },
  {
   "cell_type": "markdown",
   "metadata": {
    "id": "viFYsnxTS2OC"
   },
   "source": [
    "The returned document should be responsive to the query. Let's go ahead and construct our RAG pipeline."
   ]
  },
  {
   "cell_type": "markdown",
   "metadata": {
    "id": "CxVuFY_A_JRL"
   },
   "source": [
    "### Create the RAG pipeline for Granite\n",
    "\n",
    "First we create the prompts for Granite to perform the RAG query. We use the Granite chat template and supply the placeholder values that the LangChain RAG pipeline will replace.\n",
    "\n",
    "`{context}` will hold the retrieved chunks, as shown in the previous search, and feeds this to the model as document context for answering our question.\n",
    "\n",
    "Next, we construct the RAG pipeline by using the Granite prompt templates previously created.\n"
   ]
  },
  {
   "cell_type": "markdown",
   "metadata": {
    "collapsed": false,
    "id": "p_NU_Yhl_JRQ",
    "jupyter": {
     "outputs_hidden": false
    },
    "pycharm": {
     "name": "#%% md\n"
    }
   },
   "source": [
    "### Generate a retrieval-augmented response to a question"
   ]
  },
  {
   "cell_type": "markdown",
   "metadata": {
    "collapsed": false,
    "id": "qXQzDqAB_JRQ",
    "jupyter": {
     "outputs_hidden": false
    },
    "pycharm": {
     "name": "#%% md\n"
    }
   },
   "source": [
    "The pipeline uses the query to locate documents from the vector database and use them as context for the query."
   ]
  },
  {
   "cell_type": "markdown",
   "metadata": {
    "id": "c_uyUdCu_JRQ"
   },
   "source": [
    "Awesome! We have created an AI application that can successfully leverage knowledge from the source documents' text and images."
   ]
  },
  {
   "cell_type": "code",
   "execution_count": 33,
   "metadata": {},
   "outputs": [
    {
     "name": "stderr",
     "output_type": "stream",
     "text": [
      "INFO:ibm_watsonx_ai.client:Client successfully initialized\n",
      "INFO:httpx:HTTP Request: GET https://us-south.ml.cloud.ibm.com/ml/v1/foundation_model_specs?version=2025-04-23&project_id=d3d3c03e-2dd6-4892-b7d7-139c5dc8a1d0&filters=function_text_generation%2C%21lifecycle_withdrawn%3Aand&limit=200 \"HTTP/1.1 200 OK\"\n",
      "INFO:ibm_watsonx_ai.wml_resource:Successfully finished Get available foundation models for url: 'https://us-south.ml.cloud.ibm.com/ml/v1/foundation_model_specs?version=2025-04-23&project_id=d3d3c03e-2dd6-4892-b7d7-139c5dc8a1d0&filters=function_text_generation%2C%21lifecycle_withdrawn%3Aand&limit=200'\n",
      "INFO:httpx:HTTP Request: POST https://us-south.ml.cloud.ibm.com/ml/v1/text/generation?version=2025-04-23 \"HTTP/1.1 200 OK\"\n",
      "INFO:ibm_watsonx_ai.wml_resource:Successfully finished generate for url: 'https://us-south.ml.cloud.ibm.com/ml/v1/text/generation?version=2025-04-23'\n"
     ]
    },
    {
     "name": "stdout",
     "output_type": "stream",
     "text": [
      "RAG Answer:  Unfortunately, the provided text does not contain the configuration steps for the ACX7024 device. The\n"
     ]
    }
   ],
   "source": [
    "from langchain.llms import WatsonxLLM\n",
    "from langchain.chains import RetrievalQA\n",
    "from langchain.vectorstores import Milvus\n",
    "from langchain.embeddings import HuggingFaceEmbeddings\n",
    "\n",
    "# === Step 1: Define the LLM (LLaMA on Watsonx) ===\n",
    "llm = WatsonxLLM(\n",
    "    model_id=\"meta-llama/llama-3-2-90b-vision-instruct\",\n",
    "    url=\"https://us-south.ml.cloud.ibm.com\",\n",
    "    apikey=\"c5jsf7CBqlU_kPW8Hj80VnU13RX2ezGPTs6Fyg0-1s3A\",           # 🔁 Use same key from get_iam_access_token()\n",
    "    project_id=\"d3d3c03e-2dd6-4892-b7d7-139c5dc8a1d0\",  # Replace with yours\n",
    ")\n",
    "\n",
    "# === Step 3: Build the RAG chain ===\n",
    "rag_chain = RetrievalQA.from_chain_type(\n",
    "    llm=llm,\n",
    "    retriever=vector_db.as_retriever(),\n",
    "    chain_type=\"stuff\"\n",
    ")\n",
    "\n",
    "# === Step 3: Run a query ===\n",
    "\n",
    "query = \"What are the configuration steps for the ACX7024 device?\"\n",
    "response = rag_chain.run(query)\n",
    "print(\"RAG Answer:\", response)"
   ]
  },
  {
   "cell_type": "markdown",
   "metadata": {
    "id": "GTaX1-SPT6rU"
   },
   "source": [
    "## Next Steps\n",
    "\n",
    "- Explore advanced RAG workflows for other industries.\n",
    "- Experiment with other document types and larger datasets.\n",
    "- Optimize prompt engineering for better Granite responses.\n",
    "\n",
    "Thank you for using this recipe!"
   ]
  },
  {
   "cell_type": "code",
   "execution_count": 28,
   "metadata": {
    "id": "49114935-e810-4587-abe4-53a10fffd9ea"
   },
   "outputs": [
    {
     "name": "stdout",
     "output_type": "stream",
     "text": [
      "\n",
      "📄 Document 1\n",
      "📝 Content:\n",
      "Abstract: This  document  presents  the  technical  description  of  software configuration  on  Juniper  ACX7024  CSR  and  to  be  deployed  on  TELUS Mobility RAN IP backhaul project.\n",
      "Author\n",
      "Ricky Ip\n",
      "Last Revised Date\n",
      "January 11, 2024\n",
      "Issue\n",
      "1.1\n",
      "The  information  herein  is  TELUS  Communications  Inc.  confidential  and  proprietary.    Any review, distribution or other use of this information outside of one's scope of employment with TELUS is strictly prohibited.  TELUS Communications Inc. will avail itself of all legal rights and remedies in protecting the confidentiality, property rights, and use of the information.  If you are not a TELUS  employee  and  have  this  information  please  call 1-877-333-8888 immediately.\n",
      "No embedded image found in metadata.\n",
      "================================================================================\n",
      "\n",
      "📄 Document 2\n",
      "📝 Content:\n",
      "Distribution\n",
      "Function/Group\n",
      "Managers\n",
      "TELUS Mobility, OSS, P&E, LD\n",
      "No embedded image found in metadata.\n",
      "================================================================================\n",
      "\n",
      "📄 Document 3\n",
      "📝 Content:\n",
      "1.0, Issue Date = October 31, 2023. 1.0, Notes = Initial issue for review. 1.1, Issue Date = December 7, 2023. 1.1, Notes = Update syslog facility override parameters Update tacacs timeout to 10 sec DNS setup as optional (currently not in use)\n",
      "The most current version of this document can be found here:\n",
      "https://drive.google.com/drive/folders/1Q1Quzq_OE9PkCQkcZRtlztLhYjv_b3I4\n",
      "Filename: CSR-ACX7024-configuration-v(latest version)\n",
      "Data-IP Master Sparing Guidelines (TELUS Internal)\n",
      "https://sharepoint.tsl.telus.com/sites/tsbse/Operational%20Docs/Forms/AllItems.aspx?id=%2Fsites%2Fts bse%2FOperational%20Docs%2FSparing%2FData%2DIP%5FNetwork%5FSparing\n",
      "Filename:  UC_Juniper CSR ACX7024 Sparing.xls\n",
      "No embedded image found in metadata.\n",
      "================================================================================\n",
      "\n",
      "📄 Document 4\n",
      "📝 Content:\n",
      "|   Issue # | Issue Date       | Notes                                                                                                                   |\n",
      "|-----------|------------------|-------------------------------------------------------------------------------------------------------------------------|\n",
      "|       1   | October 31, 2023 | Initial issue for review                                                                                                |\n",
      "|       1.1 | December 7, 2023 | Update syslog facility override parameters Update tacacs timeout to 10 sec DNS setup as optional (currently not in use) |\n",
      "No embedded image found in metadata.\n",
      "================================================================================\n"
     ]
    }
   ],
   "source": [
    "query = \"Deployment : Physical Connection\"\n",
    "i = 0\n",
    "\n",
    "results = vector_db.as_retriever().invoke(query)\n",
    "\n",
    "for i, document in enumerate(results):\n",
    "    print(f\"\\n📄 Document {i + 1}\")\n",
    "    print(f\"📝 Content:\\n{document.page_content}\")\n",
    "    #print(f\"📁 Metadata: {document.metadata}\")\n",
    "\n",
    "    image_base64 = document.metadata.get(\"image_base64\")\n",
    "\n",
    "    if image_base64:\n",
    "        try:\n",
    "            image_data = base64.b64decode(image_base64)\n",
    "            image = Image.open(BytesIO(image_data))\n",
    "            print(\"Displaying embedded image...\")\n",
    "            display(image)  # Use image.show() if you're not in a notebook\n",
    "        except Exception as e:\n",
    "            print(\"Failed to decode/display image:\", e)\n",
    "    else:\n",
    "        print(\"No embedded image found in metadata.\")\n",
    "\n",
    "    print(\"=\" * 80)"
   ]
  }
 ],
 "metadata": {
  "colab": {
   "provenance": []
  },
  "kernelspec": {
   "display_name": ".venv",
   "language": "python",
   "name": "python3"
  },
  "language_info": {
   "codemirror_mode": {
    "name": "ipython",
    "version": 3
   },
   "file_extension": ".py",
   "mimetype": "text/x-python",
   "name": "python",
   "nbconvert_exporter": "python",
   "pygments_lexer": "ipython3",
   "version": "3.12.8"
  }
 },
 "nbformat": 4,
 "nbformat_minor": 4
}
